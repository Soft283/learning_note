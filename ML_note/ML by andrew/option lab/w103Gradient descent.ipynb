{
 "cells": [
  {
   "cell_type": "markdown",
   "id": "df4e6160-2a30-4e73-98d9-431a844cd230",
   "metadata": {},
   "source": [
    "你不用太焦虑，只要你在努力做没人会责怪你什么，所以你也没必要把别人的内容翻译成中文，正好可以当作学英语的机会。"
   ]
  },
  {
   "cell_type": "code",
   "execution_count": 29,
   "id": "23e392b1-dfa0-4e18-a17b-259be4d61d5e",
   "metadata": {
    "execution": {
     "iopub.execute_input": "2025-03-18T14:24:14.059602Z",
     "iopub.status.busy": "2025-03-18T14:24:14.058941Z",
     "iopub.status.idle": "2025-03-18T14:24:14.066724Z",
     "shell.execute_reply": "2025-03-18T14:24:14.065191Z",
     "shell.execute_reply.started": "2025-03-18T14:24:14.059548Z"
    }
   },
   "outputs": [],
   "source": [
    "import math,copy\n",
    "import numpy as np\n",
    "import matplotlib.pyplot as plt"
   ]
  },
  {
   "cell_type": "code",
   "execution_count": 2,
   "id": "fb8445be-71a3-4b66-a4e5-9f51f8818d36",
   "metadata": {
    "execution": {
     "iopub.execute_input": "2025-03-15T07:57:10.655120Z",
     "iopub.status.busy": "2025-03-15T07:57:10.654605Z",
     "iopub.status.idle": "2025-03-15T07:57:10.661549Z",
     "shell.execute_reply": "2025-03-15T07:57:10.660095Z",
     "shell.execute_reply.started": "2025-03-15T07:57:10.655077Z"
    }
   },
   "outputs": [],
   "source": [
    "x_train = np.array([1.0, 2.0]) \n",
    "y_train = np.array([300.0, 500.0]) "
   ]
  },
  {
   "cell_type": "markdown",
   "id": "b05d9dcb-edf7-419a-a4cc-dc9ae9a16f80",
   "metadata": {
    "execution": {
     "iopub.execute_input": "2025-03-15T07:57:29.141884Z",
     "iopub.status.busy": "2025-03-15T07:57:29.141387Z",
     "iopub.status.idle": "2025-03-15T07:57:29.150584Z",
     "shell.execute_reply": "2025-03-15T07:57:29.148168Z",
     "shell.execute_reply.started": "2025-03-15T07:57:29.141825Z"
    }
   },
   "source": [
    "# Compute_cost"
   ]
  },
  {
   "cell_type": "code",
   "execution_count": 25,
   "id": "90f52895-7308-49ec-bf37-5b2e3044716c",
   "metadata": {
    "execution": {
     "iopub.execute_input": "2025-03-18T14:19:50.732237Z",
     "iopub.status.busy": "2025-03-18T14:19:50.731825Z",
     "iopub.status.idle": "2025-03-18T14:19:50.739337Z",
     "shell.execute_reply": "2025-03-18T14:19:50.738312Z",
     "shell.execute_reply.started": "2025-03-18T14:19:50.732204Z"
    }
   },
   "outputs": [],
   "source": [
    "def compute_gradient(x,y,w,b):\n",
    "    m=x.shape[0]\n",
    "    cost=0\n",
    "    for i in range(m):\n",
    "        f_wb=w*x[i]+b\n",
    "        cost=cost+(f_wb-y[i])**2\n",
    "    total_cost=1/(2*m)*cost\n",
    "\n",
    "    return total_cost"
   ]
  },
  {
   "cell_type": "code",
   "execution_count": 18,
   "id": "fb2aa83f-d085-4358-892d-bbd19152cd39",
   "metadata": {
    "execution": {
     "iopub.execute_input": "2025-03-18T14:15:00.648835Z",
     "iopub.status.busy": "2025-03-18T14:15:00.648455Z",
     "iopub.status.idle": "2025-03-18T14:15:00.655281Z",
     "shell.execute_reply": "2025-03-18T14:15:00.654383Z",
     "shell.execute_reply.started": "2025-03-18T14:15:00.648801Z"
    }
   },
   "outputs": [],
   "source": [
    "def gradient_function(x,y,w,b):\n",
    "    m=x.shape[0]\n",
    "    dj_dw=0\n",
    "    dj_db=0\n",
    "\n",
    "    for i in range(m):\n",
    "        f_wb=w*x[i]+b\n",
    "        dj_dw_i=(f_wb-y[i])*x[i] #哦哦哦终于看懂了这个其实就是你计算偏导后化简之后的样子。\n",
    "        dj_db_i=f_wb-y[i]\n",
    "        dj_db+=dj_db_i\n",
    "        dj_dw+=dj_dw_i\n",
    "    dj_dw=dj_dw/m\n",
    "    dj_db=dj_db/m\n",
    "\n",
    "    return dj_dw,dj_db"
   ]
  },
  {
   "cell_type": "markdown",
   "id": "43b3e57a-cb40-4909-90e3-2f1d07d005e9",
   "metadata": {
    "execution": {
     "iopub.execute_input": "2025-03-15T08:09:42.189124Z",
     "iopub.status.busy": "2025-03-15T08:09:42.188586Z",
     "iopub.status.idle": "2025-03-15T08:09:42.197540Z",
     "shell.execute_reply": "2025-03-15T08:09:42.195844Z",
     "shell.execute_reply.started": "2025-03-15T08:09:42.189092Z"
    }
   },
   "source": [
    "没办法，用的盗版教材没他的环境，哎直接看别人画好的吧"
   ]
  },
  {
   "cell_type": "code",
   "execution_count": 16,
   "id": "6cc5e7a3-8e6b-45f0-86f4-79c0b9921e0f",
   "metadata": {
    "execution": {
     "iopub.execute_input": "2025-03-18T14:14:41.651125Z",
     "iopub.status.busy": "2025-03-18T14:14:41.650429Z",
     "iopub.status.idle": "2025-03-18T14:14:41.661727Z",
     "shell.execute_reply": "2025-03-18T14:14:41.660864Z",
     "shell.execute_reply.started": "2025-03-18T14:14:41.651092Z"
    }
   },
   "outputs": [],
   "source": [
    " def gradient_descent(x,y,w_in,b_in,alpha,num_iters,cost_function,gradient_function):\n",
    "        w=copy.deepcopy(w_in) #深拷贝而不是公用一个内存修改一个影响另外一个。\n",
    "        J_history=[]\n",
    "        p_history=[]\n",
    "        b=b_in\n",
    "        w=w_in\n",
    "\n",
    "        for i in range(num_iters):\n",
    "            dj_dw,dj_db=gradiernt_function(x,y,w,b) #好像这里他的代码有点问题命名不一样\n",
    "\n",
    "            b=b-alpha*dj_db\n",
    "            w=w-alpha*dj_dw #？这不就是他上课提到的那种没实时更新的吗,哦哦哦哦他这里用的参数是之前已经算好了的dj_dw\n",
    "\n",
    "            if i<100000: #如果数量太大会占用过多内存\n",
    "                J_history.append(cost_function(x,y,w,b)) #记录损失函数的变化历史\n",
    "                p_history.append([w,b]) #记录对应的wb的变换情况\n",
    "\n",
    "            if i% math.ceil(num_iters/10)==0: #每迭代10次输出一下结果，可以观察训练进度和收敛情况\n",
    "                print(f\"Iteration {i:4}:Cost {J_history[-1]:0.2e}\", #：4右对齐宽度为4 同时打印当前迭代次数。-1是最后一个值，0.2e两位小数科学计数法表示\n",
    "                      f\"dj_dw: {dj_dw: 0.3e},dj_db:{dj_db:0.3e} \",\n",
    "                      f\"w: {w:0.3e},b:{b:0.5e}\")\n",
    "\n",
    "        return w,b,J_history,p_history"
   ]
  },
  {
   "cell_type": "code",
   "execution_count": 21,
   "id": "557b1c05-8abd-408e-8dbe-428a6fbd31d5",
   "metadata": {
    "execution": {
     "iopub.execute_input": "2025-03-15T08:29:29.350479Z",
     "iopub.status.busy": "2025-03-15T08:29:29.349940Z",
     "iopub.status.idle": "2025-03-15T08:29:29.443630Z",
     "shell.execute_reply": "2025-03-15T08:29:29.442556Z",
     "shell.execute_reply.started": "2025-03-15T08:29:29.350436Z"
    }
   },
   "outputs": [
    {
     "name": "stdout",
     "output_type": "stream",
     "text": [
      "Iteration    0:Cost 7.93e+04 dj_dw: -6.500e+02,dj_db:-4.000e+02  w: 6.500e+00,b:4.00000e+00\n",
      "Iteration 1000:Cost 3.41e+00 dj_dw: -3.712e-01,dj_db:6.007e-01  w: 1.949e+02,b:1.08228e+02\n",
      "Iteration 2000:Cost 7.93e-01 dj_dw: -1.789e-01,dj_db:2.895e-01  w: 1.975e+02,b:1.03966e+02\n",
      "Iteration 3000:Cost 1.84e-01 dj_dw: -8.625e-02,dj_db:1.396e-01  w: 1.988e+02,b:1.01912e+02\n",
      "Iteration 4000:Cost 4.28e-02 dj_dw: -4.158e-02,dj_db:6.727e-02  w: 1.994e+02,b:1.00922e+02\n",
      "Iteration 5000:Cost 9.95e-03 dj_dw: -2.004e-02,dj_db:3.243e-02  w: 1.997e+02,b:1.00444e+02\n",
      "Iteration 6000:Cost 2.31e-03 dj_dw: -9.660e-03,dj_db:1.563e-02  w: 1.999e+02,b:1.00214e+02\n",
      "Iteration 7000:Cost 5.37e-04 dj_dw: -4.657e-03,dj_db:7.535e-03  w: 1.999e+02,b:1.00103e+02\n",
      "Iteration 8000:Cost 1.25e-04 dj_dw: -2.245e-03,dj_db:3.632e-03  w: 2.000e+02,b:1.00050e+02\n",
      "Iteration 9000:Cost 2.90e-05 dj_dw: -1.082e-03,dj_db:1.751e-03  w: 2.000e+02,b:1.00024e+02\n",
      "(w,b) found by gradient descent: (199.9929,100.0116)\n"
     ]
    }
   ],
   "source": [
    "w_init = 0\n",
    "b_init = 0\n",
    "iterations = 10000\n",
    "tmp_alpha = 1.0e-2\n",
    "w_final, b_final, J_hist, p_hist = gradient_descent(x_train ,y_train, w_init, b_init, tmp_alpha, \n",
    "                                                    iterations, compute_cost, compute_gradient)\n",
    "print(f\"(w,b) found by gradient descent: ({w_final:8.4f},{b_final:8.4f})\")"
   ]
  },
  {
   "cell_type": "markdown",
   "id": "497a95d3-d8f2-4878-9685-89c3d7cb1439",
   "metadata": {},
   "source": [
    "一样画图部分我们跳过，继续看接下来的部分。"
   ]
  },
  {
   "cell_type": "markdown",
   "id": "261f1393-5ff9-4025-946e-00ec2b477e32",
   "metadata": {},
   "source": [
    "尝试用一个更富在的数据运行上述，并画出对应图像。\n",
    "\n",
    ">但是这个数据居然有两个变量我全部读进来之后删一个吧。"
   ]
  },
  {
   "cell_type": "code",
   "execution_count": 2,
   "id": "52853260-7f71-4d03-b2bd-e52efe21e456",
   "metadata": {
    "execution": {
     "iopub.execute_input": "2025-03-18T14:10:13.890393Z",
     "iopub.status.busy": "2025-03-18T14:10:13.889565Z",
     "iopub.status.idle": "2025-03-18T14:10:13.904763Z",
     "shell.execute_reply": "2025-03-18T14:10:13.903166Z",
     "shell.execute_reply.started": "2025-03-18T14:10:13.890325Z"
    }
   },
   "outputs": [],
   "source": [
    "#读取数据\n",
    "import pandas as pd\n",
    "import matplotlib.pyplot as plt\n",
    "\n",
    "file_path=\"data.txt\"\n",
    "columns=[\"Area\",\"Rooms\",\"Price\"]\n",
    "data=pd.read_csv(file_path,header=None,names=columns)"
   ]
  },
  {
   "cell_type": "code",
   "execution_count": 35,
   "id": "9e3202ea-765d-4c19-a2d8-8346fabb6252",
   "metadata": {
    "execution": {
     "iopub.execute_input": "2025-03-18T14:28:14.248918Z",
     "iopub.status.busy": "2025-03-18T14:28:14.248417Z",
     "iopub.status.idle": "2025-03-18T14:28:14.254948Z",
     "shell.execute_reply": "2025-03-18T14:28:14.254014Z",
     "shell.execute_reply.started": "2025-03-18T14:28:14.248884Z"
    }
   },
   "outputs": [],
   "source": [
    "data['Price'] = data['Price'] / 1000\n",
    "data['Area'] = data['Area'] / 100"
   ]
  },
  {
   "cell_type": "code",
   "execution_count": 36,
   "id": "5c9b2956-6804-45d4-a1e2-2f6944eb2d42",
   "metadata": {
    "execution": {
     "iopub.execute_input": "2025-03-18T14:28:17.176133Z",
     "iopub.status.busy": "2025-03-18T14:28:17.175610Z",
     "iopub.status.idle": "2025-03-18T14:28:17.180847Z",
     "shell.execute_reply": "2025-03-18T14:28:17.179876Z",
     "shell.execute_reply.started": "2025-03-18T14:28:17.176099Z"
    }
   },
   "outputs": [],
   "source": [
    "x_train = np.array(data[\"Area\"])\n",
    "y_train = np.array(data[\"Price\"])"
   ]
  },
  {
   "cell_type": "code",
   "execution_count": 38,
   "id": "25d3fd58-0746-4ffe-a1b5-9b0115dd6a87",
   "metadata": {
    "execution": {
     "iopub.execute_input": "2025-03-18T14:30:40.461223Z",
     "iopub.status.busy": "2025-03-18T14:30:40.460796Z",
     "iopub.status.idle": "2025-03-18T14:30:40.466253Z",
     "shell.execute_reply": "2025-03-18T14:30:40.465369Z",
     "shell.execute_reply.started": "2025-03-18T14:30:40.461189Z"
    }
   },
   "outputs": [],
   "source": [
    "x_train = (x_train - np.mean(x_train)) / np.std(x_train)"
   ]
  },
  {
   "cell_type": "code",
   "execution_count": 8,
   "id": "5568454b-573d-4622-87d2-6ebfebf475e9",
   "metadata": {
    "execution": {
     "iopub.execute_input": "2025-03-18T14:12:44.217606Z",
     "iopub.status.busy": "2025-03-18T14:12:44.217110Z",
     "iopub.status.idle": "2025-03-18T14:12:44.489507Z",
     "shell.execute_reply": "2025-03-18T14:12:44.488521Z",
     "shell.execute_reply.started": "2025-03-18T14:12:44.217572Z"
    }
   },
   "outputs": [
    {
     "data": {
      "text/plain": [
       "<matplotlib.collections.PathCollection at 0x7f3e1a4673a0>"
      ]
     },
     "execution_count": 8,
     "metadata": {},
     "output_type": "execute_result"
    },
    {
     "data": {
      "image/png": "[encoded data removed]",
      "text/plain": [
       "<Figure size 640x480 with 1 Axes>"
      ]
     },
     "metadata": {},
     "output_type": "display_data"
    }
   ],
   "source": [
    "#简单看一下\n",
    "plt.scatter(x, y, color='blue', label='实际数据')"
   ]
  },
  {
   "cell_type": "code",
   "execution_count": 23,
   "id": "c5d4757c-7a16-4107-a665-abdca4f5a747",
   "metadata": {
    "execution": {
     "iopub.execute_input": "2025-03-18T14:19:06.658315Z",
     "iopub.status.busy": "2025-03-18T14:19:06.657789Z",
     "iopub.status.idle": "2025-03-18T14:19:06.663321Z",
     "shell.execute_reply": "2025-03-18T14:19:06.662434Z",
     "shell.execute_reply.started": "2025-03-18T14:19:06.658274Z"
    }
   },
   "outputs": [],
   "source": [
    "import copy\n",
    "import math\n"
   ]
  },
  {
   "cell_type": "code",
   "execution_count": 39,
   "id": "d17e771c-9999-44c6-a095-e079af8f2e1a",
   "metadata": {
    "execution": {
     "iopub.execute_input": "2025-03-18T14:30:45.334304Z",
     "iopub.status.busy": "2025-03-18T14:30:45.333852Z",
     "iopub.status.idle": "2025-03-18T14:30:45.432685Z",
     "shell.execute_reply": "2025-03-18T14:30:45.431763Z",
     "shell.execute_reply.started": "2025-03-18T14:30:45.334257Z"
    }
   },
   "outputs": [
    {
     "name": "stdout",
     "output_type": "stream",
     "text": [
      "Iteration    0:Cost 6.43e+04 dj_dw: -1.058e+02,dj_db:-3.404e+02  w: 1.058e+00,b:3.40413e+00\n",
      "Iteration  100:Cost 1.04e+04 dj_dw: -3.871e+01,dj_db:-1.246e+02  w: 6.744e+01,b:2.17057e+02\n",
      "Iteration  200:Cost 3.18e+03 dj_dw: -1.417e+01,dj_db:-4.561e+01  w: 9.174e+01,b:2.95260e+02\n",
      "Iteration  300:Cost 2.21e+03 dj_dw: -5.187e+00,dj_db:-1.669e+01  w: 1.006e+02,b:3.23885e+02\n",
      "Iteration  400:Cost 2.08e+03 dj_dw: -1.899e+00,dj_db:-6.111e+00  w: 1.039e+02,b:3.34363e+02\n",
      "Iteration  500:Cost 2.06e+03 dj_dw: -6.949e-01,dj_db:-2.237e+00  w: 1.051e+02,b:3.38198e+02\n",
      "Iteration  600:Cost 2.06e+03 dj_dw: -2.544e-01,dj_db:-8.187e-01  w: 1.055e+02,b:3.39602e+02\n",
      "Iteration  700:Cost 2.06e+03 dj_dw: -9.311e-02,dj_db:-2.997e-01  w: 1.057e+02,b:3.40116e+02\n",
      "Iteration  800:Cost 2.06e+03 dj_dw: -3.408e-02,dj_db:-1.097e-01  w: 1.057e+02,b:3.40304e+02\n",
      "Iteration  900:Cost 2.06e+03 dj_dw: -1.247e-02,dj_db:-4.015e-02  w: 1.058e+02,b:3.40373e+02\n",
      "(w,b) found by gradient descent: (105.7596,340.3980)\n"
     ]
    }
   ],
   "source": [
    "w_init = 0\n",
    "b_init = 0\n",
    "iterations=1000\n",
    "tmp_alpha = 0.01\n",
    "w_final, b_final, J_hist, p_hist = gradient_descent(x_train ,y_train, w_init, b_init, tmp_alpha, \n",
    "                                                    iterations, compute_cost, compute_gradient)\n",
    "print(f\"(w,b) found by gradient descent: ({w_final:8.4f},{b_final:8.4f})\")"
   ]
  },
  {
   "cell_type": "code",
   "execution_count": 41,
   "id": "81673a23-fe4b-4d7e-89e6-42bebb755b59",
   "metadata": {
    "execution": {
     "iopub.execute_input": "2025-03-18T14:32:41.398468Z",
     "iopub.status.busy": "2025-03-18T14:32:41.397961Z",
     "iopub.status.idle": "2025-03-18T14:32:41.717341Z",
     "shell.execute_reply": "2025-03-18T14:32:41.716280Z",
     "shell.execute_reply.started": "2025-03-18T14:32:41.398434Z"
    }
   },
   "outputs": [
    {
     "data": {
      "image/png": "[encoded data removed]",
      "text/plain": [
       "<Figure size 640x480 with 1 Axes>"
      ]
     },
     "metadata": {},
     "output_type": "display_data"
    }
   ],
   "source": [
    "plt.scatter(x_train, y_train, color=\"blue\", label=\"Actual Data\")  # 实际数据点\n",
    "plt.plot(x_train, w_final * x_train + b_final, color=\"red\", label=\"Fitted Line\")  # 拟合直线\n",
    "plt.title(\"Linear Regression Fit\")\n",
    "plt.xlabel(\"House Area\")\n",
    "plt.ylabel(\"House Price (Standardized)\")\n",
    "plt.legend()\n",
    "plt.grid(True)\n",
    "plt.show()"
   ]
  },
  {
   "cell_type": "code",
   "execution_count": null,
   "id": "21537055-4ad0-4025-b7d7-3b2a70d9b1de",
   "metadata": {},
   "outputs": [],
   "source": []
  }
 ],
 "metadata": {
  "kernelspec": {
   "display_name": "Python 3 (ipykernel)",
   "language": "python",
   "name": "python3"
  },
  "language_info": {
   "codemirror_mode": {
    "name": "ipython",
    "version": 3
   },
   "file_extension": ".py",
   "mimetype": "text/x-python",
   "name": "python",
   "nbconvert_exporter": "python",
   "pygments_lexer": "ipython3",
   "version": "3.10.13"
  }
 },
 "nbformat": 4,
 "nbformat_minor": 5
}
