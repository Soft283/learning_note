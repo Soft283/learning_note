{
 "cells": [
  {
   "cell_type": "markdown",
   "id": "b1389c19-e42e-4b16-b710-7e8e4a7ece92",
   "metadata": {
    "execution": {
     "iopub.execute_input": "2025-03-24T12:20:16.245261Z",
     "iopub.status.busy": "2025-03-24T12:20:16.244283Z",
     "iopub.status.idle": "2025-03-24T12:20:16.254212Z",
     "shell.execute_reply": "2025-03-24T12:20:16.252017Z",
     "shell.execute_reply.started": "2025-03-24T12:20:16.245197Z"
    }
   },
   "source": [
    "# use scikit-learn to implement linear regression"
   ]
  },
  {
   "cell_type": "code",
   "execution_count": 2,
   "id": "bfd0250e-97b4-4eec-b7c6-930fdb2cdf81",
   "metadata": {
    "execution": {
     "iopub.execute_input": "2025-03-24T12:21:41.695082Z",
     "iopub.status.busy": "2025-03-24T12:21:41.694573Z",
     "iopub.status.idle": "2025-03-24T12:21:42.857427Z",
     "shell.execute_reply": "2025-03-24T12:21:42.856395Z",
     "shell.execute_reply.started": "2025-03-24T12:21:41.695045Z"
    }
   },
   "outputs": [],
   "source": [
    "import numpy as np\n",
    "import matplotlib.pyplot as plt\n",
    "from sklearn.linear_model import SGDRegressor\n",
    "from sklearn.preprocessing import StandardScaler"
   ]
  },
  {
   "cell_type": "markdown",
   "id": "6c1b5060-6df1-4a36-a89b-3cdf8c4095a3",
   "metadata": {},
   "source": [
    "唉妈的还是没有数据啊 我能怎么办？我知道了我直接nano编辑一个原始数据就行了应该!唉天才啊我真是"
   ]
  },
  {
   "cell_type": "code",
   "execution_count": 6,
   "id": "498a9281-8788-45f6-9ffd-0d64c6d2361e",
   "metadata": {
    "execution": {
     "iopub.execute_input": "2025-03-24T12:25:11.307438Z",
     "iopub.status.busy": "2025-03-24T12:25:11.306699Z",
     "iopub.status.idle": "2025-03-24T12:25:11.317286Z",
     "shell.execute_reply": "2025-03-24T12:25:11.315167Z",
     "shell.execute_reply.started": "2025-03-24T12:25:11.307363Z"
    }
   },
   "outputs": [],
   "source": [
    "def load_house_data():\n",
    "    data = np.loadtxt(\"./houses.txt\", delimiter=',', skiprows=1)\n",
    "    X = data[:,:4]\n",
    "    y = data[:,4]\n",
    "    return X, y"
   ]
  },
  {
   "cell_type": "code",
   "execution_count": 19,
   "id": "feb22d76-e6ff-41a5-8a62-05c40520dee8",
   "metadata": {
    "execution": {
     "iopub.execute_input": "2025-03-24T12:38:05.555138Z",
     "iopub.status.busy": "2025-03-24T12:38:05.554604Z",
     "iopub.status.idle": "2025-03-24T12:38:05.562354Z",
     "shell.execute_reply": "2025-03-24T12:38:05.560644Z",
     "shell.execute_reply.started": "2025-03-24T12:38:05.555092Z"
    }
   },
   "outputs": [],
   "source": [
    "X_train, y_train = load_house_data()\n",
    "X_features = ['size(sqft)','bedrooms','floors','age']"
   ]
  },
  {
   "cell_type": "code",
   "execution_count": 9,
   "id": "2db61e45-136a-4d16-ab94-e75140c1e20d",
   "metadata": {
    "execution": {
     "iopub.execute_input": "2025-03-24T12:29:00.079747Z",
     "iopub.status.busy": "2025-03-24T12:29:00.079337Z",
     "iopub.status.idle": "2025-03-24T12:29:00.087760Z",
     "shell.execute_reply": "2025-03-24T12:29:00.086883Z",
     "shell.execute_reply.started": "2025-03-24T12:29:00.079714Z"
    }
   },
   "outputs": [
    {
     "name": "stdout",
     "output_type": "stream",
     "text": [
      "Peak to Peak range by column in Raw        X:[2.406e+03 4.000e+00 1.000e+00 9.500e+01]\n",
      "Peak to Peak range by column in Normalized X:[5.8452591  6.13529646 2.05626214 3.68533012]\n"
     ]
    }
   ],
   "source": [
    "# scale/normalize the training data\n",
    "scaler = StandardScaler() #创建一个scaler对象\n",
    "X_norm = scaler.fit_transform(X_train) #先进行fit计算标准差和平均值，之后再进行标准化。\n",
    "print(f\"Peak to Peak range by column in Raw        X:{np.ptp(X_train,axis=0)}\")   \n",
    "print(f\"Peak to Peak range by column in Normalized X:{np.ptp(X_norm,axis=0)}\")"
   ]
  },
  {
   "cell_type": "code",
   "execution_count": 10,
   "id": "e4340fc4-3c1c-4865-be86-4a6cb28d46fb",
   "metadata": {
    "execution": {
     "iopub.execute_input": "2025-03-24T12:32:06.515082Z",
     "iopub.status.busy": "2025-03-24T12:32:06.514477Z",
     "iopub.status.idle": "2025-03-24T12:32:06.533874Z",
     "shell.execute_reply": "2025-03-24T12:32:06.532957Z",
     "shell.execute_reply.started": "2025-03-24T12:32:06.515033Z"
    }
   },
   "outputs": [
    {
     "name": "stdout",
     "output_type": "stream",
     "text": [
      "SGDRegressor()\n",
      "number of iterations completed: 120, number of weight updates: 11881.0\n"
     ]
    }
   ],
   "source": [
    "# create and fit the regression model\n",
    "sgdr = SGDRegressor(max_iter=1000)\n",
    "sgdr.fit(X_norm, y_train)\n",
    "print(sgdr)\n",
    "print(f\"number of iterations completed: {sgdr.n_iter_}, number of weight updates: {sgdr.t_}\")"
   ]
  },
  {
   "cell_type": "code",
   "execution_count": 11,
   "id": "92b6efc2-3354-46f4-9d96-6a8ed2b0eeee",
   "metadata": {
    "execution": {
     "iopub.execute_input": "2025-03-24T12:32:43.345202Z",
     "iopub.status.busy": "2025-03-24T12:32:43.344229Z",
     "iopub.status.idle": "2025-03-24T12:32:43.352988Z",
     "shell.execute_reply": "2025-03-24T12:32:43.352070Z",
     "shell.execute_reply.started": "2025-03-24T12:32:43.345137Z"
    }
   },
   "outputs": [
    {
     "name": "stdout",
     "output_type": "stream",
     "text": [
      "model parameters:                   w: [110.11708264 -21.04125412 -32.43870193 -38.04639489], b:[363.15712738]\n",
      "model parameters from previous lab: w: [110.56 -21.27 -32.71 -37.97], b: 363.16\n"
     ]
    }
   ],
   "source": [
    "b_norm = sgdr.intercept_\n",
    "w_norm = sgdr.coef_\n",
    "print(f\"model parameters:                   w: {w_norm}, b:{b_norm}\")\n",
    "print( \"model parameters from previous lab: w: [110.56 -21.27 -32.71 -37.97], b: 363.16\")"
   ]
  },
  {
   "cell_type": "code",
   "execution_count": 12,
   "id": "fff84e6a-0786-4dd8-835e-85cca1e92d08",
   "metadata": {
    "execution": {
     "iopub.execute_input": "2025-03-24T12:33:01.617513Z",
     "iopub.status.busy": "2025-03-24T12:33:01.616676Z",
     "iopub.status.idle": "2025-03-24T12:33:01.628406Z",
     "shell.execute_reply": "2025-03-24T12:33:01.626823Z",
     "shell.execute_reply.started": "2025-03-24T12:33:01.617459Z"
    }
   },
   "outputs": [
    {
     "name": "stdout",
     "output_type": "stream",
     "text": [
      "prediction using np.dot() and sgdr.predict match: True\n",
      "Prediction on training set:\n",
      "[295.17533728 485.9110707  389.62243422 492.07322306]\n",
      "Target values \n",
      "[300.  509.8 394.  540. ]\n"
     ]
    }
   ],
   "source": [
    "y_pred_sgd = sgdr.predict(X_norm)\n",
    "# make a prediction using w,b. \n",
    "y_pred = np.dot(X_norm, w_norm) + b_norm  #这里只是为了手动算和scikitlearn算出的结果是一样的\n",
    "print(f\"prediction using np.dot() and sgdr.predict match: {(y_pred == y_pred_sgd).all()}\")\n",
    "\n",
    "print(f\"Prediction on training set:\\n{y_pred[:4]}\" )\n",
    "print(f\"Target values \\n{y_train[:4]}\")"
   ]
  },
  {
   "cell_type": "code",
   "execution_count": null,
   "id": "3b4225f3-c3ff-4f36-83ee-50351140e5c7",
   "metadata": {},
   "outputs": [],
   "source": [
    "#另外一种方法，利用scikit—learn基于正态方程的紧密形式完成线性回归"
   ]
  },
  {
   "cell_type": "code",
   "execution_count": 13,
   "id": "81fdb655-ee14-453b-980f-d6c0f273b00f",
   "metadata": {
    "execution": {
     "iopub.execute_input": "2025-03-24T12:36:50.510209Z",
     "iopub.status.busy": "2025-03-24T12:36:50.509583Z",
     "iopub.status.idle": "2025-03-24T12:36:50.516834Z",
     "shell.execute_reply": "2025-03-24T12:36:50.515453Z",
     "shell.execute_reply.started": "2025-03-24T12:36:50.510175Z"
    }
   },
   "outputs": [],
   "source": [
    "from sklearn.linear_model import LinearRegression"
   ]
  },
  {
   "cell_type": "code",
   "execution_count": 14,
   "id": "01363e75-0d91-4310-a397-b806c9b8eadf",
   "metadata": {
    "execution": {
     "iopub.execute_input": "2025-03-24T12:36:57.517806Z",
     "iopub.status.busy": "2025-03-24T12:36:57.517391Z",
     "iopub.status.idle": "2025-03-24T12:36:57.522574Z",
     "shell.execute_reply": "2025-03-24T12:36:57.521653Z",
     "shell.execute_reply.started": "2025-03-24T12:36:57.517769Z"
    }
   },
   "outputs": [],
   "source": [
    "X_train = np.array([1.0, 2.0])   #features\n",
    "y_train = np.array([300, 500])   #target value"
   ]
  },
  {
   "cell_type": "code",
   "execution_count": 15,
   "id": "ef995331-0d4c-4859-a0b2-07282992c8ba",
   "metadata": {
    "execution": {
     "iopub.execute_input": "2025-03-24T12:37:09.827232Z",
     "iopub.status.busy": "2025-03-24T12:37:09.826495Z",
     "iopub.status.idle": "2025-03-24T12:37:09.848389Z",
     "shell.execute_reply": "2025-03-24T12:37:09.846902Z",
     "shell.execute_reply.started": "2025-03-24T12:37:09.827168Z"
    }
   },
   "outputs": [
    {
     "data": {
      "text/html": [
       "<style>#sk-container-id-1 {color: black;}#sk-container-id-1 pre{padding: 0;}#sk-container-id-1 div.sk-toggleable {background-color: white;}#sk-container-id-1 label.sk-toggleable__label {cursor: pointer;display: block;width: 100%;margin-bottom: 0;padding: 0.3em;box-sizing: border-box;text-align: center;}#sk-container-id-1 label.sk-toggleable__label-arrow:before {content: \"▸\";float: left;margin-right: 0.25em;color: #696969;}#sk-container-id-1 label.sk-toggleable__label-arrow:hover:before {color: black;}#sk-container-id-1 div.sk-estimator:hover label.sk-toggleable__label-arrow:before {color: black;}#sk-container-id-1 div.sk-toggleable__content {max-height: 0;max-width: 0;overflow: hidden;text-align: left;background-color: #f0f8ff;}#sk-container-id-1 div.sk-toggleable__content pre {margin: 0.2em;color: black;border-radius: 0.25em;background-color: #f0f8ff;}#sk-container-id-1 input.sk-toggleable__control:checked~div.sk-toggleable__content {max-height: 200px;max-width: 100%;overflow: auto;}#sk-container-id-1 input.sk-toggleable__control:checked~label.sk-toggleable__label-arrow:before {content: \"▾\";}#sk-container-id-1 div.sk-estimator input.sk-toggleable__control:checked~label.sk-toggleable__label {background-color: #d4ebff;}#sk-container-id-1 div.sk-label input.sk-toggleable__control:checked~label.sk-toggleable__label {background-color: #d4ebff;}#sk-container-id-1 input.sk-hidden--visually {border: 0;clip: rect(1px 1px 1px 1px);clip: rect(1px, 1px, 1px, 1px);height: 1px;margin: -1px;overflow: hidden;padding: 0;position: absolute;width: 1px;}#sk-container-id-1 div.sk-estimator {font-family: monospace;background-color: #f0f8ff;border: 1px dotted black;border-radius: 0.25em;box-sizing: border-box;margin-bottom: 0.5em;}#sk-container-id-1 div.sk-estimator:hover {background-color: #d4ebff;}#sk-container-id-1 div.sk-parallel-item::after {content: \"\";width: 100%;border-bottom: 1px solid gray;flex-grow: 1;}#sk-container-id-1 div.sk-label:hover label.sk-toggleable__label {background-color: #d4ebff;}#sk-container-id-1 div.sk-serial::before {content: \"\";position: absolute;border-left: 1px solid gray;box-sizing: border-box;top: 0;bottom: 0;left: 50%;z-index: 0;}#sk-container-id-1 div.sk-serial {display: flex;flex-direction: column;align-items: center;background-color: white;padding-right: 0.2em;padding-left: 0.2em;position: relative;}#sk-container-id-1 div.sk-item {position: relative;z-index: 1;}#sk-container-id-1 div.sk-parallel {display: flex;align-items: stretch;justify-content: center;background-color: white;position: relative;}#sk-container-id-1 div.sk-item::before, #sk-container-id-1 div.sk-parallel-item::before {content: \"\";position: absolute;border-left: 1px solid gray;box-sizing: border-box;top: 0;bottom: 0;left: 50%;z-index: -1;}#sk-container-id-1 div.sk-parallel-item {display: flex;flex-direction: column;z-index: 1;position: relative;background-color: white;}#sk-container-id-1 div.sk-parallel-item:first-child::after {align-self: flex-end;width: 50%;}#sk-container-id-1 div.sk-parallel-item:last-child::after {align-self: flex-start;width: 50%;}#sk-container-id-1 div.sk-parallel-item:only-child::after {width: 0;}#sk-container-id-1 div.sk-dashed-wrapped {border: 1px dashed gray;margin: 0 0.4em 0.5em 0.4em;box-sizing: border-box;padding-bottom: 0.4em;background-color: white;}#sk-container-id-1 div.sk-label label {font-family: monospace;font-weight: bold;display: inline-block;line-height: 1.2em;}#sk-container-id-1 div.sk-label-container {text-align: center;}#sk-container-id-1 div.sk-container {/* jupyter's `normalize.less` sets `[hidden] { display: none; }` but bootstrap.min.css set `[hidden] { display: none !important; }` so we also need the `!important` here to be able to override the default hidden behavior on the sphinx rendered scikit-learn.org. See: https://github.com/scikit-learn/scikit-learn/issues/21755 */display: inline-block !important;position: relative;}#sk-container-id-1 div.sk-text-repr-fallback {display: none;}</style><div id=\"sk-container-id-1\" class=\"sk-top-container\"><div class=\"sk-text-repr-fallback\"><pre>LinearRegression()</pre><b>In a Jupyter environment, please rerun this cell to show the HTML representation or trust the notebook. <br />On GitHub, the HTML representation is unable to render, please try loading this page with nbviewer.org.</b></div><div class=\"sk-container\" hidden><div class=\"sk-item\"><div class=\"sk-estimator sk-toggleable\"><input class=\"sk-toggleable__control sk-hidden--visually\" id=\"sk-estimator-id-1\" type=\"checkbox\" checked><label for=\"sk-estimator-id-1\" class=\"sk-toggleable__label sk-toggleable__label-arrow\">LinearRegression</label><div class=\"sk-toggleable__content\"><pre>LinearRegression()</pre></div></div></div></div></div>"
      ],
      "text/plain": [
       "LinearRegression()"
      ]
     },
     "execution_count": 15,
     "metadata": {},
     "output_type": "execute_result"
    }
   ],
   "source": [
    "linear_model = LinearRegression()\n",
    "#X must be a 2-D Matrix\n",
    "linear_model.fit(X_train.reshape(-1, 1), y_train) "
   ]
  },
  {
   "cell_type": "code",
   "execution_count": 16,
   "id": "f1b579f5-dbf1-45cc-99cf-be9a2a99d99d",
   "metadata": {
    "execution": {
     "iopub.execute_input": "2025-03-24T12:37:21.565294Z",
     "iopub.status.busy": "2025-03-24T12:37:21.564891Z",
     "iopub.status.idle": "2025-03-24T12:37:21.571437Z",
     "shell.execute_reply": "2025-03-24T12:37:21.570570Z",
     "shell.execute_reply.started": "2025-03-24T12:37:21.565260Z"
    }
   },
   "outputs": [
    {
     "name": "stdout",
     "output_type": "stream",
     "text": [
      "w = [200.], b = 100.00\n",
      "'manual' prediction: f_wb = wx+b : [240100.]\n"
     ]
    }
   ],
   "source": [
    "b = linear_model.intercept_\n",
    "w = linear_model.coef_\n",
    "print(f\"w = {w:}, b = {b:0.2f}\")\n",
    "print(f\"'manual' prediction: f_wb = wx+b : {1200*w + b}\")"
   ]
  },
  {
   "cell_type": "code",
   "execution_count": 17,
   "id": "2fd8ac37-7b8d-4060-81c4-c32eb5caaf09",
   "metadata": {
    "execution": {
     "iopub.execute_input": "2025-03-24T12:37:38.317443Z",
     "iopub.status.busy": "2025-03-24T12:37:38.316823Z",
     "iopub.status.idle": "2025-03-24T12:37:38.324672Z",
     "shell.execute_reply": "2025-03-24T12:37:38.323673Z",
     "shell.execute_reply.started": "2025-03-24T12:37:38.317380Z"
    }
   },
   "outputs": [
    {
     "name": "stdout",
     "output_type": "stream",
     "text": [
      "Prediction on training set: [300. 500.]\n",
      "Prediction for 1200 sqft house: $240100.00\n"
     ]
    }
   ],
   "source": [
    "y_pred = linear_model.predict(X_train.reshape(-1, 1))\n",
    "\n",
    "print(\"Prediction on training set:\", y_pred)\n",
    "\n",
    "X_test = np.array([[1200]])\n",
    "print(f\"Prediction for 1200 sqft house: ${linear_model.predict(X_test)[0]:0.2f}\")"
   ]
  },
  {
   "cell_type": "code",
   "execution_count": 20,
   "id": "63ffee51-ba97-448a-b682-fb4049e01168",
   "metadata": {
    "execution": {
     "iopub.execute_input": "2025-03-24T12:38:13.619647Z",
     "iopub.status.busy": "2025-03-24T12:38:13.619141Z",
     "iopub.status.idle": "2025-03-24T12:38:13.628077Z",
     "shell.execute_reply": "2025-03-24T12:38:13.627235Z",
     "shell.execute_reply.started": "2025-03-24T12:38:13.619613Z"
    }
   },
   "outputs": [
    {
     "data": {
      "text/html": [
       "<style>#sk-container-id-2 {color: black;}#sk-container-id-2 pre{padding: 0;}#sk-container-id-2 div.sk-toggleable {background-color: white;}#sk-container-id-2 label.sk-toggleable__label {cursor: pointer;display: block;width: 100%;margin-bottom: 0;padding: 0.3em;box-sizing: border-box;text-align: center;}#sk-container-id-2 label.sk-toggleable__label-arrow:before {content: \"▸\";float: left;margin-right: 0.25em;color: #696969;}#sk-container-id-2 label.sk-toggleable__label-arrow:hover:before {color: black;}#sk-container-id-2 div.sk-estimator:hover label.sk-toggleable__label-arrow:before {color: black;}#sk-container-id-2 div.sk-toggleable__content {max-height: 0;max-width: 0;overflow: hidden;text-align: left;background-color: #f0f8ff;}#sk-container-id-2 div.sk-toggleable__content pre {margin: 0.2em;color: black;border-radius: 0.25em;background-color: #f0f8ff;}#sk-container-id-2 input.sk-toggleable__control:checked~div.sk-toggleable__content {max-height: 200px;max-width: 100%;overflow: auto;}#sk-container-id-2 input.sk-toggleable__control:checked~label.sk-toggleable__label-arrow:before {content: \"▾\";}#sk-container-id-2 div.sk-estimator input.sk-toggleable__control:checked~label.sk-toggleable__label {background-color: #d4ebff;}#sk-container-id-2 div.sk-label input.sk-toggleable__control:checked~label.sk-toggleable__label {background-color: #d4ebff;}#sk-container-id-2 input.sk-hidden--visually {border: 0;clip: rect(1px 1px 1px 1px);clip: rect(1px, 1px, 1px, 1px);height: 1px;margin: -1px;overflow: hidden;padding: 0;position: absolute;width: 1px;}#sk-container-id-2 div.sk-estimator {font-family: monospace;background-color: #f0f8ff;border: 1px dotted black;border-radius: 0.25em;box-sizing: border-box;margin-bottom: 0.5em;}#sk-container-id-2 div.sk-estimator:hover {background-color: #d4ebff;}#sk-container-id-2 div.sk-parallel-item::after {content: \"\";width: 100%;border-bottom: 1px solid gray;flex-grow: 1;}#sk-container-id-2 div.sk-label:hover label.sk-toggleable__label {background-color: #d4ebff;}#sk-container-id-2 div.sk-serial::before {content: \"\";position: absolute;border-left: 1px solid gray;box-sizing: border-box;top: 0;bottom: 0;left: 50%;z-index: 0;}#sk-container-id-2 div.sk-serial {display: flex;flex-direction: column;align-items: center;background-color: white;padding-right: 0.2em;padding-left: 0.2em;position: relative;}#sk-container-id-2 div.sk-item {position: relative;z-index: 1;}#sk-container-id-2 div.sk-parallel {display: flex;align-items: stretch;justify-content: center;background-color: white;position: relative;}#sk-container-id-2 div.sk-item::before, #sk-container-id-2 div.sk-parallel-item::before {content: \"\";position: absolute;border-left: 1px solid gray;box-sizing: border-box;top: 0;bottom: 0;left: 50%;z-index: -1;}#sk-container-id-2 div.sk-parallel-item {display: flex;flex-direction: column;z-index: 1;position: relative;background-color: white;}#sk-container-id-2 div.sk-parallel-item:first-child::after {align-self: flex-end;width: 50%;}#sk-container-id-2 div.sk-parallel-item:last-child::after {align-self: flex-start;width: 50%;}#sk-container-id-2 div.sk-parallel-item:only-child::after {width: 0;}#sk-container-id-2 div.sk-dashed-wrapped {border: 1px dashed gray;margin: 0 0.4em 0.5em 0.4em;box-sizing: border-box;padding-bottom: 0.4em;background-color: white;}#sk-container-id-2 div.sk-label label {font-family: monospace;font-weight: bold;display: inline-block;line-height: 1.2em;}#sk-container-id-2 div.sk-label-container {text-align: center;}#sk-container-id-2 div.sk-container {/* jupyter's `normalize.less` sets `[hidden] { display: none; }` but bootstrap.min.css set `[hidden] { display: none !important; }` so we also need the `!important` here to be able to override the default hidden behavior on the sphinx rendered scikit-learn.org. See: https://github.com/scikit-learn/scikit-learn/issues/21755 */display: inline-block !important;position: relative;}#sk-container-id-2 div.sk-text-repr-fallback {display: none;}</style><div id=\"sk-container-id-2\" class=\"sk-top-container\"><div class=\"sk-text-repr-fallback\"><pre>LinearRegression()</pre><b>In a Jupyter environment, please rerun this cell to show the HTML representation or trust the notebook. <br />On GitHub, the HTML representation is unable to render, please try loading this page with nbviewer.org.</b></div><div class=\"sk-container\" hidden><div class=\"sk-item\"><div class=\"sk-estimator sk-toggleable\"><input class=\"sk-toggleable__control sk-hidden--visually\" id=\"sk-estimator-id-2\" type=\"checkbox\" checked><label for=\"sk-estimator-id-2\" class=\"sk-toggleable__label sk-toggleable__label-arrow\">LinearRegression</label><div class=\"sk-toggleable__content\"><pre>LinearRegression()</pre></div></div></div></div></div>"
      ],
      "text/plain": [
       "LinearRegression()"
      ]
     },
     "execution_count": 20,
     "metadata": {},
     "output_type": "execute_result"
    }
   ],
   "source": [
    "linear_model = LinearRegression()\n",
    "linear_model.fit(X_train, y_train) "
   ]
  },
  {
   "cell_type": "code",
   "execution_count": 21,
   "id": "aa445898-e61d-40de-887d-6d6cf7ef5d2d",
   "metadata": {
    "execution": {
     "iopub.execute_input": "2025-03-24T12:38:20.042943Z",
     "iopub.status.busy": "2025-03-24T12:38:20.042451Z",
     "iopub.status.idle": "2025-03-24T12:38:20.048306Z",
     "shell.execute_reply": "2025-03-24T12:38:20.047440Z",
     "shell.execute_reply.started": "2025-03-24T12:38:20.042909Z"
    }
   },
   "outputs": [
    {
     "name": "stdout",
     "output_type": "stream",
     "text": [
      "w = [  0.26860107 -32.62006902 -67.25453872  -1.47297443], b = 220.42\n"
     ]
    }
   ],
   "source": [
    "b = linear_model.intercept_\n",
    "w = linear_model.coef_\n",
    "print(f\"w = {w:}, b = {b:0.2f}\") #说白了就是他会自己直接拟合"
   ]
  },
  {
   "cell_type": "code",
   "execution_count": 22,
   "id": "47f1ebdc-3cba-4dec-8384-c51faccff8c0",
   "metadata": {
    "execution": {
     "iopub.execute_input": "2025-03-24T12:38:40.204749Z",
     "iopub.status.busy": "2025-03-24T12:38:40.204204Z",
     "iopub.status.idle": "2025-03-24T12:38:40.216476Z",
     "shell.execute_reply": "2025-03-24T12:38:40.215517Z",
     "shell.execute_reply.started": "2025-03-24T12:38:40.204701Z"
    }
   },
   "outputs": [
    {
     "name": "stdout",
     "output_type": "stream",
     "text": [
      "Prediction on training set:\n",
      " [295.17615301 485.97796332 389.52416548 492.14712499]\n",
      "prediction using w,b:\n",
      " [295.17615301 485.97796332 389.52416548 492.14712499]\n",
      "Target values \n",
      " [300.  509.8 394.  540. ]\n",
      " predicted price of a house with 1200 sqft, 3 bedrooms, 1 floor, 40 years old = $318709.09\n"
     ]
    }
   ],
   "source": [
    "print(f\"Prediction on training set:\\n {linear_model.predict(X_train)[:4]}\" )\n",
    "print(f\"prediction using w,b:\\n {(X_train @ w + b)[:4]}\")\n",
    "print(f\"Target values \\n {y_train[:4]}\")\n",
    "\n",
    "x_house = np.array([1200, 3,1, 40]).reshape(-1,4)\n",
    "x_house_predict = linear_model.predict(x_house)[0]\n",
    "print(f\" predicted price of a house with 1200 sqft, 3 bedrooms, 1 floor, 40 years old = ${x_house_predict*1000:0.2f}\")"
   ]
  },
  {
   "cell_type": "code",
   "execution_count": null,
   "id": "eac76499-bf77-4b06-97fc-bf94c8cb8706",
   "metadata": {},
   "outputs": [],
   "source": []
  }
 ],
 "metadata": {
  "kernelspec": {
   "display_name": "Python 3 (ipykernel)",
   "language": "python",
   "name": "python3"
  },
  "language_info": {
   "codemirror_mode": {
    "name": "ipython",
    "version": 3
   },
   "file_extension": ".py",
   "mimetype": "text/x-python",
   "name": "python",
   "nbconvert_exporter": "python",
   "pygments_lexer": "ipython3",
   "version": "3.10.13"
  }
 },
 "nbformat": 4,
 "nbformat_minor": 5
}
