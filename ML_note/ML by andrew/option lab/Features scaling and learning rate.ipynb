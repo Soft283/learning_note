{
 "cells": [
  {
   "cell_type": "code",
   "execution_count": 1,
   "id": "f0695251-5b65-4254-b08b-89896e379d4d",
   "metadata": {
    "execution": {
     "iopub.execute_input": "2025-03-23T02:31:50.034910Z",
     "iopub.status.busy": "2025-03-23T02:31:50.033833Z",
     "iopub.status.idle": "2025-03-23T02:31:50.609397Z",
     "shell.execute_reply": "2025-03-23T02:31:50.608376Z",
     "shell.execute_reply.started": "2025-03-23T02:31:50.034826Z"
    }
   },
   "outputs": [],
   "source": [
    "import numpy as np\n",
    "import matplotlib.pyplot as plt"
   ]
  },
  {
   "cell_type": "markdown",
   "id": "301ae200-81eb-4b86-b37e-3e4bd56da0cc",
   "metadata": {},
   "source": [
    "因为用的是盗版教程，所以一些数据只能我自己手动偷过来了，哎有点麻烦。\n",
    "> 算了不偷了，可以直接看盗版教程里面的展示我能理解他每一步是在干什么就行。"
   ]
  },
  {
   "cell_type": "code",
   "execution_count": 2,
   "id": "3395e43f-37f5-4b09-945f-56209d8f9a5a",
   "metadata": {
    "execution": {
     "iopub.execute_input": "2025-03-23T02:51:05.654966Z",
     "iopub.status.busy": "2025-03-23T02:51:05.654501Z",
     "iopub.status.idle": "2025-03-23T02:51:05.661424Z",
     "shell.execute_reply": "2025-03-23T02:51:05.660413Z",
     "shell.execute_reply.started": "2025-03-23T02:51:05.654933Z"
    }
   },
   "outputs": [],
   "source": [
    "#尝试手搓一下zscore_normalize 其实我之前用过很多次这个但是从来没想到zscore到底是怎么zscore的\n",
    "def zscore_normalize(x):\n",
    "    #zscore里面有两个重要的东西一个是标准差一个是平均值\n",
    "    x_mean=np.mean(x,axis=0) #还有一个小问题就是我的x是一个多维的数据我选择什么来计算呢，应该是每个维度内部自己计算自己的，也就是说是按照行来进行标准化的。\n",
    "    x_SD=np.std(x,axis=0)\n",
    "    #接下来写公式\n",
    "    x_norm=(x[i]-x_mean)/x_SD\n",
    "    return x_norm  #哈哈哈哈我真的是天才跟答案差不多只是答案把所有结果都输出了"
   ]
  },
  {
   "cell_type": "code",
   "execution_count": null,
   "id": "d4a021c3-da96-4f9d-a249-a94a02b698a0",
   "metadata": {},
   "outputs": [],
   "source": []
  }
 ],
 "metadata": {
  "kernelspec": {
   "display_name": "Python 3 (ipykernel)",
   "language": "python",
   "name": "python3"
  },
  "language_info": {
   "codemirror_mode": {
    "name": "ipython",
    "version": 3
   },
   "file_extension": ".py",
   "mimetype": "text/x-python",
   "name": "python",
   "nbconvert_exporter": "python",
   "pygments_lexer": "ipython3",
   "version": "3.10.13"
  }
 },
 "nbformat": 4,
 "nbformat_minor": 5
}
