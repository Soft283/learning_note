{
 "cells": [
  {
   "cell_type": "code",
   "execution_count": 1,
   "id": "95b1f993-e42c-4fd7-a32d-8bc0abc3fb1b",
   "metadata": {
    "execution": {
     "iopub.execute_input": "2025-03-20T11:36:40.417677Z",
     "iopub.status.busy": "2025-03-20T11:36:40.417092Z",
     "iopub.status.idle": "2025-03-20T11:36:40.422630Z",
     "shell.execute_reply": "2025-03-20T11:36:40.421676Z",
     "shell.execute_reply.started": "2025-03-20T11:36:40.417643Z"
    }
   },
   "outputs": [],
   "source": [
    "import numpy as np\n",
    "import time"
   ]
  },
  {
   "cell_type": "markdown",
   "id": "e0e23963-1c1c-43fa-9356-5da246b27237",
   "metadata": {},
   "source": [
    "# vectors"
   ]
  },
  {
   "cell_type": "code",
   "execution_count": 4,
   "id": "c338fc76-d08f-4fcd-abea-bbe236a3f133",
   "metadata": {
    "execution": {
     "iopub.execute_input": "2025-03-20T11:44:30.948947Z",
     "iopub.status.busy": "2025-03-20T11:44:30.947939Z",
     "iopub.status.idle": "2025-03-20T11:44:30.964717Z",
     "shell.execute_reply": "2025-03-20T11:44:30.962464Z",
     "shell.execute_reply.started": "2025-03-20T11:44:30.948875Z"
    }
   },
   "outputs": [
    {
     "name": "stdout",
     "output_type": "stream",
     "text": [
      "np.zero(4): a=[0. 0. 0. 0.],a.shape=(4,),a data type=float64\n",
      "np.zero(4): a=[0. 0. 0. 0.],a.shape=(4,),a data type=float64\n",
      "np.zero(4): a=[0.6707986  0.64224065 0.73306355 0.31633371],a.shape=(4,),a data type=float64\n"
     ]
    }
   ],
   "source": [
    "# create vector\n",
    "a=np.zeros(4)\n",
    "print(f\"np.zero(4): a={a},a.shape={a.shape},a data type={a.dtype}\")\n",
    "a=np.zeros((4,))\n",
    "print(f\"np.zero(4): a={a},a.shape={a.shape},a data type={a.dtype}\")\n",
    "a=np.random.random_sample(4)\n",
    "print(f\"np.zero(4): a={a},a.shape={a.shape},a data type={a.dtype}\")"
   ]
  },
  {
   "cell_type": "code",
   "execution_count": 5,
   "id": "d4da5b3a-8a57-4a81-84a3-6ce8521ac0a9",
   "metadata": {
    "execution": {
     "iopub.execute_input": "2025-03-20T11:44:52.948439Z",
     "iopub.status.busy": "2025-03-20T11:44:52.947889Z",
     "iopub.status.idle": "2025-03-20T11:44:52.957483Z",
     "shell.execute_reply": "2025-03-20T11:44:52.956046Z",
     "shell.execute_reply.started": "2025-03-20T11:44:52.948405Z"
    }
   },
   "outputs": [
    {
     "name": "stdout",
     "output_type": "stream",
     "text": [
      "np.arange(4.):     a = [0. 1. 2. 3.], a shape = (4,), a data type = float64\n",
      "np.random.rand(4): a = [0.07489808 0.4182771  0.58791818 0.61517199], a shape = (4,), a data type = float64\n"
     ]
    }
   ],
   "source": [
    "a = np.arange(4.);              print(f\"np.arange(4.):     a = {a}, a shape = {a.shape}, a data type = {a.dtype}\")\n",
    "a = np.random.rand(4);          print(f\"np.random.rand(4): a = {a}, a shape = {a.shape}, a data type = {a.dtype}\")"
   ]
  },
  {
   "cell_type": "code",
   "execution_count": 6,
   "id": "e8eb9522-7219-4524-8d5c-3580ae61d184",
   "metadata": {
    "execution": {
     "iopub.execute_input": "2025-03-20T11:45:12.085538Z",
     "iopub.status.busy": "2025-03-20T11:45:12.085081Z",
     "iopub.status.idle": "2025-03-20T11:45:12.093545Z",
     "shell.execute_reply": "2025-03-20T11:45:12.092379Z",
     "shell.execute_reply.started": "2025-03-20T11:45:12.085500Z"
    }
   },
   "outputs": [
    {
     "name": "stdout",
     "output_type": "stream",
     "text": [
      "np.array([5,4,3,2]):  a = [5 4 3 2],     a shape = (4,), a data type = int64\n",
      "np.array([5.,4,3,2]): a = [5. 4. 3. 2.], a shape = (4,), a data type = float64\n"
     ]
    }
   ],
   "source": [
    "a = np.array([5,4,3,2]);  print(f\"np.array([5,4,3,2]):  a = {a},     a shape = {a.shape}, a data type = {a.dtype}\")\n",
    "a = np.array([5.,4,3,2]); print(f\"np.array([5.,4,3,2]): a = {a}, a shape = {a.shape}, a data type = {a.dtype}\")"
   ]
  },
  {
   "cell_type": "markdown",
   "id": "a79334c5-a513-4257-aa8c-c49ccb68f2d9",
   "metadata": {},
   "source": [
    "## index"
   ]
  },
  {
   "cell_type": "code",
   "execution_count": 7,
   "id": "204a6ef9-61df-4b34-9500-de855ff333e6",
   "metadata": {
    "execution": {
     "iopub.execute_input": "2025-03-20T11:46:29.015656Z",
     "iopub.status.busy": "2025-03-20T11:46:29.015145Z",
     "iopub.status.idle": "2025-03-20T11:46:29.022491Z",
     "shell.execute_reply": "2025-03-20T11:46:29.021555Z",
     "shell.execute_reply.started": "2025-03-20T11:46:29.015621Z"
    }
   },
   "outputs": [
    {
     "name": "stdout",
     "output_type": "stream",
     "text": [
      "[0 1 2 3 4 5 6 7 8 9]\n",
      "a[2].shape: () a[2]  = 2, Accessing an element returns a scalar\n",
      "a[-1] = 9\n",
      "The error message you'll see is:\n",
      "index 10 is out of bounds for axis 0 with size 10\n"
     ]
    }
   ],
   "source": [
    "a = np.arange(10)\n",
    "print(a)\n",
    "\n",
    "\n",
    "print(f\"a[2].shape: {a[2].shape} a[2]  = {a[2]}, Accessing an element returns a scalar\")\n",
    "\n",
    "\n",
    "print(f\"a[-1] = {a[-1]}\")\n",
    "\n",
    "\n",
    "try:\n",
    "    c = a[10]\n",
    "except Exception as e:\n",
    "    print(\"The error message you'll see is:\")\n",
    "    print(e)"
   ]
  },
  {
   "cell_type": "markdown",
   "id": "f5bdde69-f263-4482-91ee-4f406273022a",
   "metadata": {},
   "source": [
    "## slicing"
   ]
  },
  {
   "cell_type": "code",
   "execution_count": 8,
   "id": "add705f2-6c9c-40eb-860f-42034bd3995c",
   "metadata": {
    "execution": {
     "iopub.execute_input": "2025-03-20T11:47:05.108082Z",
     "iopub.status.busy": "2025-03-20T11:47:05.107432Z",
     "iopub.status.idle": "2025-03-20T11:47:05.119083Z",
     "shell.execute_reply": "2025-03-20T11:47:05.118008Z",
     "shell.execute_reply.started": "2025-03-20T11:47:05.108047Z"
    }
   },
   "outputs": [
    {
     "name": "stdout",
     "output_type": "stream",
     "text": [
      "a         = [0 1 2 3 4 5 6 7 8 9]\n",
      "a[2:7:1] =  [2 3 4 5 6]\n",
      "a[2:7:2] =  [2 4 6]\n",
      "a[3:]    =  [3 4 5 6 7 8 9]\n",
      "a[:3]    =  [0 1 2]\n",
      "a[:]     =  [0 1 2 3 4 5 6 7 8 9]\n"
     ]
    }
   ],
   "source": [
    "a = np.arange(10)\n",
    "print(f\"a         = {a}\")\n",
    "\n",
    "\n",
    "c = a[2:7:1];     print(\"a[2:7:1] = \", c) #c是print的对象\n",
    " \n",
    "\n",
    "c = a[2:7:2];     print(\"a[2:7:2] = \", c)\n",
    "\n",
    "\n",
    "c = a[3:];        print(\"a[3:]    = \", c)\n",
    "\n",
    "\n",
    "c = a[:3];        print(\"a[:3]    = \", c)\n",
    "\n",
    "c = a[:];         print(\"a[:]     = \", c)"
   ]
  },
  {
   "cell_type": "markdown",
   "id": "ff1b6a50-815c-4ea4-b87c-ce9a12cacd71",
   "metadata": {},
   "source": [
    "## single vector operations"
   ]
  },
  {
   "cell_type": "code",
   "execution_count": 9,
   "id": "548c0dcb-647d-4757-b492-75e1be5b3f0c",
   "metadata": {
    "execution": {
     "iopub.execute_input": "2025-03-20T11:48:45.149923Z",
     "iopub.status.busy": "2025-03-20T11:48:45.149136Z",
     "iopub.status.idle": "2025-03-20T11:48:45.162482Z",
     "shell.execute_reply": "2025-03-20T11:48:45.160803Z",
     "shell.execute_reply.started": "2025-03-20T11:48:45.149868Z"
    }
   },
   "outputs": [
    {
     "name": "stdout",
     "output_type": "stream",
     "text": [
      "a             : [1 2 3 4]\n",
      "b = -a        : [-1 -2 -3 -4]\n",
      "b = np.sum(a) : 10\n",
      "b = np.mean(a): 2.5\n",
      "b = a**2      : [ 1  4  9 16]\n"
     ]
    }
   ],
   "source": [
    "a = np.array([1,2,3,4])\n",
    "print(f\"a             : {a}\")\n",
    "# negate elements of a\n",
    "b = -a \n",
    "print(f\"b = -a        : {b}\")\n",
    "\n",
    "# sum all elements of a, returns a scalar\n",
    "b = np.sum(a) \n",
    "print(f\"b = np.sum(a) : {b}\")\n",
    "\n",
    "b = np.mean(a)\n",
    "print(f\"b = np.mean(a): {b}\")\n",
    "\n",
    "b = a**2\n",
    "print(f\"b = a**2      : {b}\")"
   ]
  },
  {
   "cell_type": "markdown",
   "id": "1597f833-d23b-425f-8eb2-82caeadf7cf8",
   "metadata": {},
   "source": [
    "##  Vector element-wise operations"
   ]
  },
  {
   "cell_type": "code",
   "execution_count": 10,
   "id": "15652341-c1e9-4a4c-b175-20e3df33dd2d",
   "metadata": {
    "execution": {
     "iopub.execute_input": "2025-03-20T11:49:28.012948Z",
     "iopub.status.busy": "2025-03-20T11:49:28.012155Z",
     "iopub.status.idle": "2025-03-20T11:49:28.024838Z",
     "shell.execute_reply": "2025-03-20T11:49:28.022836Z",
     "shell.execute_reply.started": "2025-03-20T11:49:28.012871Z"
    }
   },
   "outputs": [
    {
     "name": "stdout",
     "output_type": "stream",
     "text": [
      "Binary operators work element wise: [0 0 6 8]\n"
     ]
    }
   ],
   "source": [
    "a = np.array([ 1, 2, 3, 4])\n",
    "b = np.array([-1,-2, 3, 4])\n",
    "print(f\"Binary operators work element wise: {a + b}\")"
   ]
  },
  {
   "cell_type": "code",
   "execution_count": 11,
   "id": "30836cd5-395f-4d81-b0b0-1ee62b61081c",
   "metadata": {
    "execution": {
     "iopub.execute_input": "2025-03-20T11:50:07.194867Z",
     "iopub.status.busy": "2025-03-20T11:50:07.194401Z",
     "iopub.status.idle": "2025-03-20T11:50:07.201015Z",
     "shell.execute_reply": "2025-03-20T11:50:07.200124Z",
     "shell.execute_reply.started": "2025-03-20T11:50:07.194832Z"
    }
   },
   "outputs": [
    {
     "name": "stdout",
     "output_type": "stream",
     "text": [
      "The error message you'll see is:\n",
      "operands could not be broadcast together with shapes (4,) (2,) \n"
     ]
    }
   ],
   "source": [
    "#for this work correctly,the vectors must be of the same size\n",
    "c = np.array([1, 2])\n",
    "try:\n",
    "    d = a + c\n",
    "except Exception as e:\n",
    "    print(\"The error message you'll see is:\")\n",
    "    print(e)"
   ]
  },
  {
   "cell_type": "markdown",
   "id": "93df2fd4-036c-4e7c-81cb-b75dbfd5ea5d",
   "metadata": {},
   "source": [
    "## Scalar Vector operations"
   ]
  },
  {
   "cell_type": "code",
   "execution_count": 12,
   "id": "e4c969bc-accc-4f1c-acd2-61cfaf15649e",
   "metadata": {
    "execution": {
     "iopub.execute_input": "2025-03-20T11:50:34.382716Z",
     "iopub.status.busy": "2025-03-20T11:50:34.381953Z",
     "iopub.status.idle": "2025-03-20T11:50:34.392026Z",
     "shell.execute_reply": "2025-03-20T11:50:34.390447Z",
     "shell.execute_reply.started": "2025-03-20T11:50:34.382670Z"
    }
   },
   "outputs": [
    {
     "name": "stdout",
     "output_type": "stream",
     "text": [
      "b = 5 * a : [ 5 10 15 20]\n"
     ]
    }
   ],
   "source": [
    "a = np.array([1, 2, 3, 4])\n",
    "\n",
    "# multiply a by a scalar\n",
    "b = 5 * a \n",
    "print(f\"b = 5 * a : {b}\")"
   ]
  },
  {
   "cell_type": "markdown",
   "id": "b595d445-2581-447c-95e2-804246e21561",
   "metadata": {},
   "source": [
    "## Vector dot product"
   ]
  },
  {
   "cell_type": "code",
   "execution_count": 15,
   "id": "60018328-5d5d-4a3f-997b-05cb34bbf209",
   "metadata": {
    "execution": {
     "iopub.execute_input": "2025-03-20T11:52:27.729047Z",
     "iopub.status.busy": "2025-03-20T11:52:27.728134Z",
     "iopub.status.idle": "2025-03-20T11:52:27.737015Z",
     "shell.execute_reply": "2025-03-20T11:52:27.735591Z",
     "shell.execute_reply.started": "2025-03-20T11:52:27.728969Z"
    }
   },
   "outputs": [],
   "source": [
    "#personaly\n",
    "def my_dot(a,b):\n",
    "    x=0\n",
    "    for i in range(a.shape[0]):\n",
    "        x=x+a[i]*b[i]\n",
    "    return x"
   ]
  },
  {
   "cell_type": "code",
   "execution_count": 16,
   "id": "173b51a3-fdd7-4dc5-b65d-12d0937f3cd2",
   "metadata": {
    "execution": {
     "iopub.execute_input": "2025-03-20T11:52:35.131728Z",
     "iopub.status.busy": "2025-03-20T11:52:35.131011Z",
     "iopub.status.idle": "2025-03-20T11:52:35.138820Z",
     "shell.execute_reply": "2025-03-20T11:52:35.137778Z",
     "shell.execute_reply.started": "2025-03-20T11:52:35.131679Z"
    }
   },
   "outputs": [
    {
     "name": "stdout",
     "output_type": "stream",
     "text": [
      "my_dot(a, b) = 24\n"
     ]
    }
   ],
   "source": [
    "a = np.array([1, 2, 3, 4])\n",
    "b = np.array([-1, 4, 3, 2])\n",
    "print(f\"my_dot(a, b) = {my_dot(a, b)}\")"
   ]
  },
  {
   "cell_type": "code",
   "execution_count": 17,
   "id": "1ccbd72b-a339-4bb2-b5a3-19fe5ff9bd07",
   "metadata": {
    "execution": {
     "iopub.execute_input": "2025-03-20T11:52:49.800537Z",
     "iopub.status.busy": "2025-03-20T11:52:49.799755Z",
     "iopub.status.idle": "2025-03-20T11:52:49.814500Z",
     "shell.execute_reply": "2025-03-20T11:52:49.813225Z",
     "shell.execute_reply.started": "2025-03-20T11:52:49.800471Z"
    }
   },
   "outputs": [
    {
     "name": "stdout",
     "output_type": "stream",
     "text": [
      "NumPy 1-D np.dot(a, b) = 24, np.dot(a, b).shape = () \n",
      "NumPy 1-D np.dot(b, a) = 24, np.dot(a, b).shape = () \n"
     ]
    }
   ],
   "source": [
    "a = np.array([1, 2, 3, 4])\n",
    "b = np.array([-1, 4, 3, 2])\n",
    "c = np.dot(a, b)\n",
    "print(f\"NumPy 1-D np.dot(a, b) = {c}, np.dot(a, b).shape = {c.shape} \") \n",
    "c = np.dot(b, a)\n",
    "print(f\"NumPy 1-D np.dot(b, a) = {c}, np.dot(a, b).shape = {c.shape} \")"
   ]
  },
  {
   "cell_type": "code",
   "execution_count": 18,
   "id": "3d3ff6c9-930b-4c28-b5d6-43cd414432fa",
   "metadata": {
    "execution": {
     "iopub.execute_input": "2025-03-20T11:53:12.936123Z",
     "iopub.status.busy": "2025-03-20T11:53:12.935137Z",
     "iopub.status.idle": "2025-03-20T11:53:17.745760Z",
     "shell.execute_reply": "2025-03-20T11:53:17.744669Z",
     "shell.execute_reply.started": "2025-03-20T11:53:12.936050Z"
    }
   },
   "outputs": [
    {
     "name": "stdout",
     "output_type": "stream",
     "text": [
      "np.dot(a, b) =  2501072.5817\n",
      "Vectorized version duration: 6.4993 ms \n",
      "my_dot(a, b) =  2501072.5817\n",
      "loop version duration: 4438.2520 ms \n"
     ]
    }
   ],
   "source": [
    "np.random.seed(1)\n",
    "a = np.random.rand(10000000)  # very large arrays\n",
    "b = np.random.rand(10000000)\n",
    "\n",
    "tic = time.time()  # capture start time\n",
    "c = np.dot(a, b)\n",
    "toc = time.time()  # capture end time\n",
    "\n",
    "print(f\"np.dot(a, b) =  {c:.4f}\")\n",
    "print(f\"Vectorized version duration: {1000*(toc-tic):.4f} ms \")\n",
    "\n",
    "tic = time.time()  # capture start time\n",
    "c = my_dot(a,b)\n",
    "toc = time.time()  # capture end time\n",
    "\n",
    "print(f\"my_dot(a, b) =  {c:.4f}\")\n",
    "print(f\"loop version duration: {1000*(toc-tic):.4f} ms \")\n",
    "\n",
    "del(a);del(b)  #remove these big arrays from memory"
   ]
  },
  {
   "cell_type": "code",
   "execution_count": 19,
   "id": "5edbf7fb-ad89-4cc3-a375-bffc81573b4c",
   "metadata": {
    "execution": {
     "iopub.execute_input": "2025-03-20T11:54:31.084281Z",
     "iopub.status.busy": "2025-03-20T11:54:31.083245Z",
     "iopub.status.idle": "2025-03-20T11:54:31.097899Z",
     "shell.execute_reply": "2025-03-20T11:54:31.095840Z",
     "shell.execute_reply.started": "2025-03-20T11:54:31.084194Z"
    }
   },
   "outputs": [
    {
     "name": "stdout",
     "output_type": "stream",
     "text": [
      "X[1] has shape (1,)\n",
      "w has shape (1,)\n",
      "c has shape ()\n"
     ]
    }
   ],
   "source": [
    "X = np.array([[1],[2],[3],[4]])\n",
    "w = np.array([2])\n",
    "c = np.dot(X[1], w)\n",
    "\n",
    "print(f\"X[1] has shape {X[1].shape}\")\n",
    "print(f\"w has shape {w.shape}\")\n",
    "print(f\"c has shape {c.shape}\")"
   ]
  },
  {
   "cell_type": "markdown",
   "id": "48b6e499-7d94-4766-9277-e0c604e18125",
   "metadata": {
    "execution": {
     "iopub.execute_input": "2025-03-20T11:54:39.900551Z",
     "iopub.status.busy": "2025-03-20T11:54:39.900099Z",
     "iopub.status.idle": "2025-03-20T11:54:39.905213Z",
     "shell.execute_reply": "2025-03-20T11:54:39.904286Z",
     "shell.execute_reply.started": "2025-03-20T11:54:39.900514Z"
    }
   },
   "source": [
    "# Matrices"
   ]
  },
  {
   "cell_type": "code",
   "execution_count": 21,
   "id": "736dacd7-e1ab-4562-ba2b-61084d77fee0",
   "metadata": {
    "execution": {
     "iopub.execute_input": "2025-03-20T11:59:00.447153Z",
     "iopub.status.busy": "2025-03-20T11:59:00.446429Z",
     "iopub.status.idle": "2025-03-20T11:59:00.460721Z",
     "shell.execute_reply": "2025-03-20T11:59:00.459192Z",
     "shell.execute_reply.started": "2025-03-20T11:59:00.447095Z"
    }
   },
   "outputs": [
    {
     "name": "stdout",
     "output_type": "stream",
     "text": [
      "a shape = (1, 5), a = [[0. 0. 0. 0. 0.]]\n",
      "a shape = (2, 1), a = [[0.]\n",
      " [0.]]\n",
      "a shape = (1, 1), a = [[0.44236513]]\n"
     ]
    }
   ],
   "source": [
    "a = np.zeros((1, 5))                                       \n",
    "print(f\"a shape = {a.shape}, a = {a}\")                     \n",
    "\n",
    "a = np.zeros((2, 1))                                                                   \n",
    "print(f\"a shape = {a.shape}, a = {a}\") \n",
    "\n",
    "a = np.random.random_sample((1, 1))  \n",
    "print(f\"a shape = {a.shape}, a = {a}\") \n",
    "#这里需要对比一下前面的，在创建数组的时候np.zero(4,)代表着一维的数据是4\n",
    "#如果你填进去了第二个数据就代表着二位的数据是多少多少"
   ]
  },
  {
   "cell_type": "code",
   "execution_count": 22,
   "id": "da62b75f-10b6-44ec-b0cc-a4022ea79268",
   "metadata": {
    "execution": {
     "iopub.execute_input": "2025-03-20T11:59:20.499915Z",
     "iopub.status.busy": "2025-03-20T11:59:20.499370Z",
     "iopub.status.idle": "2025-03-20T11:59:20.509448Z",
     "shell.execute_reply": "2025-03-20T11:59:20.507878Z",
     "shell.execute_reply.started": "2025-03-20T11:59:20.499880Z"
    }
   },
   "outputs": [
    {
     "name": "stdout",
     "output_type": "stream",
     "text": [
      " a shape = (3, 1), np.array: a = [[5]\n",
      " [4]\n",
      " [3]]\n",
      " a shape = (3, 1), np.array: a = [[5]\n",
      " [4]\n",
      " [3]]\n"
     ]
    }
   ],
   "source": [
    "#a = np.array([5, 4, 3])\n",
    "a = np.array([[5], [4], [3]]);   print(f\" a shape = {a.shape}, np.array: a = {a}\")\n",
    "a = np.array([[5],   # One can also\n",
    "              [4],   # separate values\n",
    "              [3]]); #into separate rows\n",
    "#如果你需要有第二列\n",
    "a = np.array([\n",
    "    [5, 1],\n",
    "    [4, 1],\n",
    "    [3, 1]\n",
    "])\n",
    "#或者\n",
    "a = np.array([[5, 1], [4, 1], [3, 1]])\n",
    "print(f\" a shape = {a.shape}, np.array: a = {a}\")"
   ]
  },
  {
   "cell_type": "code",
   "execution_count": 23,
   "id": "d4b06e6a-ba80-4d28-aca5-5fe24b2878fc",
   "metadata": {
    "execution": {
     "iopub.execute_input": "2025-03-20T12:03:30.811964Z",
     "iopub.status.busy": "2025-03-20T12:03:30.811483Z",
     "iopub.status.idle": "2025-03-20T12:03:30.819154Z",
     "shell.execute_reply": "2025-03-20T12:03:30.818218Z",
     "shell.execute_reply.started": "2025-03-20T12:03:30.811929Z"
    }
   },
   "outputs": [
    {
     "name": "stdout",
     "output_type": "stream",
     "text": [
      "a.shape: (3, 2), \n",
      "a= [[0 1]\n",
      " [2 3]\n",
      " [4 5]]\n",
      "\n",
      "a[2,0].shape:   (), a[2,0] = 4,     type(a[2,0]) = <class 'numpy.int64'> Accessing an element returns a scalar\n",
      "\n",
      "a[2].shape:   (2,), a[2]   = [4 5], type(a[2])   = <class 'numpy.ndarray'>\n"
     ]
    }
   ],
   "source": [
    "a = np.arange(6).reshape(-1, 2)  #对reshape的一些解释，-1是自动占位符，自动计算第一个维度的大小，2指得是有两列\n",
    "print(f\"a.shape: {a.shape}, \\na= {a}\")\n",
    "\n",
    "#access an element\n",
    "print(f\"\\na[2,0].shape:   {a[2, 0].shape}, a[2,0] = {a[2, 0]},     type(a[2,0]) = {type(a[2, 0])} Accessing an element returns a scalar\\n\")\n",
    "\n",
    "#access a row\n",
    "print(f\"a[2].shape:   {a[2].shape}, a[2]   = {a[2]}, type(a[2])   = {type(a[2])}\")"
   ]
  },
  {
   "cell_type": "code",
   "execution_count": 24,
   "id": "7d654482-d178-43f2-ba40-30bbd2f7e4bb",
   "metadata": {
    "execution": {
     "iopub.execute_input": "2025-03-20T12:06:48.132696Z",
     "iopub.status.busy": "2025-03-20T12:06:48.132134Z",
     "iopub.status.idle": "2025-03-20T12:06:48.141649Z",
     "shell.execute_reply": "2025-03-20T12:06:48.140787Z",
     "shell.execute_reply.started": "2025-03-20T12:06:48.132661Z"
    }
   },
   "outputs": [
    {
     "name": "stdout",
     "output_type": "stream",
     "text": [
      "a = \n",
      "[[ 0  1  2  3  4  5  6  7  8  9]\n",
      " [10 11 12 13 14 15 16 17 18 19]]\n",
      "a[0, 2:7:1] =  [2 3 4 5 6] ,  a[0, 2:7:1].shape = (5,) a 1-D array\n",
      "a[:, 2:7:1] = \n",
      " [[ 2  3  4  5  6]\n",
      " [12 13 14 15 16]] ,  a[:, 2:7:1].shape = (2, 5) a 2-D array\n",
      "a[:,:] = \n",
      " [[ 0  1  2  3  4  5  6  7  8  9]\n",
      " [10 11 12 13 14 15 16 17 18 19]] ,  a[:,:].shape = (2, 10)\n",
      "a[1,:] =  [10 11 12 13 14 15 16 17 18 19] ,  a[1,:].shape = (10,) a 1-D array\n",
      "a[1]   =  [10 11 12 13 14 15 16 17 18 19] ,  a[1].shape   = (10,) a 1-D array\n"
     ]
    }
   ],
   "source": [
    "a = np.arange(20).reshape(-1, 10)\n",
    "print(f\"a = \\n{a}\")\n",
    "\n",
    "#access 5 consecutive elements (start:stop:step)\n",
    "print(\"a[0, 2:7:1] = \", a[0, 2:7:1], \",  a[0, 2:7:1].shape =\", a[0, 2:7:1].shape, \"a 1-D array\")\n",
    "\n",
    "#access 5 consecutive elements (start:stop:step) in two rows\n",
    "print(\"a[:, 2:7:1] = \\n\", a[:, 2:7:1], \",  a[:, 2:7:1].shape =\", a[:, 2:7:1].shape, \"a 2-D array\")\n",
    "\n",
    "# access all elements\n",
    "print(\"a[:,:] = \\n\", a[:,:], \",  a[:,:].shape =\", a[:,:].shape)\n",
    "\n",
    "# access all elements in one row (very common usage)\n",
    "print(\"a[1,:] = \", a[1,:], \",  a[1,:].shape =\", a[1,:].shape, \"a 1-D array\")\n",
    "# same as\n",
    "print(\"a[1]   = \", a[1],   \",  a[1].shape   =\", a[1].shape, \"a 1-D array\")"
   ]
  },
  {
   "cell_type": "code",
   "execution_count": null,
   "id": "e7f7b677-da35-459c-b332-33ffd823b31b",
   "metadata": {},
   "outputs": [],
   "source": []
  }
 ],
 "metadata": {
  "kernelspec": {
   "display_name": "Python 3 (ipykernel)",
   "language": "python",
   "name": "python3"
  },
  "language_info": {
   "codemirror_mode": {
    "name": "ipython",
    "version": 3
   },
   "file_extension": ".py",
   "mimetype": "text/x-python",
   "name": "python",
   "nbconvert_exporter": "python",
   "pygments_lexer": "ipython3",
   "version": "3.10.13"
  }
 },
 "nbformat": 4,
 "nbformat_minor": 5
}
