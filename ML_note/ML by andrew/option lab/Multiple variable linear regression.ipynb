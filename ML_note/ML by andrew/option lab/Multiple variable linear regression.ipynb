{
 "cells": [
  {
   "cell_type": "code",
   "execution_count": 1,
   "id": "ea97b6c3-6555-41e2-a7c8-c8443ebff6b0",
   "metadata": {
    "execution": {
     "iopub.execute_input": "2025-03-22T05:41:02.531228Z",
     "iopub.status.busy": "2025-03-22T05:41:02.530496Z",
     "iopub.status.idle": "2025-03-22T05:41:03.085837Z",
     "shell.execute_reply": "2025-03-22T05:41:03.084943Z",
     "shell.execute_reply.started": "2025-03-22T05:41:02.531183Z"
    }
   },
   "outputs": [],
   "source": [
    "import copy, math\n",
    "import numpy as np\n",
    "import matplotlib.pyplot as plt"
   ]
  },
  {
   "cell_type": "code",
   "execution_count": 84,
   "id": "c9cdb77e-08e5-4d6d-82c2-34a8d8496eb2",
   "metadata": {
    "execution": {
     "iopub.execute_input": "2025-03-22T07:57:57.070938Z",
     "iopub.status.busy": "2025-03-22T07:57:57.070397Z",
     "iopub.status.idle": "2025-03-22T07:57:57.076548Z",
     "shell.execute_reply": "2025-03-22T07:57:57.075688Z",
     "shell.execute_reply.started": "2025-03-22T07:57:57.070903Z"
    }
   },
   "outputs": [],
   "source": [
    "X_train = np.array([[2104, 5, 1, 45], [1416, 3, 2, 40], [852, 2, 1, 35]])\n",
    "y_train = np.array([460, 232, 178])"
   ]
  },
  {
   "cell_type": "code",
   "execution_count": 3,
   "id": "cf3450af-ed89-47b6-9932-6be42f2f129d",
   "metadata": {
    "execution": {
     "iopub.execute_input": "2025-03-22T05:43:53.955385Z",
     "iopub.status.busy": "2025-03-22T05:43:53.954945Z",
     "iopub.status.idle": "2025-03-22T05:43:53.961684Z",
     "shell.execute_reply": "2025-03-22T05:43:53.960832Z",
     "shell.execute_reply.started": "2025-03-22T05:43:53.955354Z"
    }
   },
   "outputs": [
    {
     "name": "stdout",
     "output_type": "stream",
     "text": [
      "X Shape: (3, 4), X Type:<class 'numpy.ndarray'>)\n",
      "[[2104    5    1   45]\n",
      " [1416    3    2   40]\n",
      " [ 852    2    1   35]]\n",
      "y Shape: (3,), y Type:<class 'numpy.ndarray'>)\n",
      "[460 232 178]\n"
     ]
    }
   ],
   "source": [
    "print(f\"X Shape: {X_train.shape}, X Type:{type(X_train)})\")\n",
    "print(X_train)\n",
    "print(f\"y Shape: {y_train.shape}, y Type:{type(y_train)})\")\n",
    "print(y_train)\n",
    "#这里我有一个奇怪的误会，我一直以为y.shape:(3,)和x（3，4）\n",
    "#这里的x值得是一个二位矩阵三个样本和四个特征\n",
    "#y指的是一个一维数组三个样本，这里的,是为了区分数组和标量并不意味着别的什么"
   ]
  },
  {
   "cell_type": "code",
   "execution_count": 83,
   "id": "56d93e84-cff9-4ade-a510-2b780ee05131",
   "metadata": {
    "execution": {
     "iopub.execute_input": "2025-03-22T07:57:51.311266Z",
     "iopub.status.busy": "2025-03-22T07:57:51.310529Z",
     "iopub.status.idle": "2025-03-22T07:57:51.322832Z",
     "shell.execute_reply": "2025-03-22T07:57:51.321231Z",
     "shell.execute_reply.started": "2025-03-22T07:57:51.311203Z"
    }
   },
   "outputs": [
    {
     "name": "stdout",
     "output_type": "stream",
     "text": [
      "w_init shape: (4,), b_init type: <class 'float'>\n"
     ]
    }
   ],
   "source": [
    "b_init = 785.1811367994083\n",
    "w_init = np.array([ 0.39133535, 18.75376741, -53.36032453, -26.42131618])\n",
    "print(f\"w_init shape: {w_init.shape}, b_init type: {type(b_init)}\")"
   ]
  },
  {
   "cell_type": "markdown",
   "id": "fbb019f2-fd9e-4213-9aa8-d9da64cba827",
   "metadata": {},
   "source": [
    "# 写这个函数不是为了让你照抄重要的是理解最好你手搓一个之后再核对"
   ]
  },
  {
   "cell_type": "code",
   "execution_count": 5,
   "id": "078112d5-11ec-4f00-8d57-296d187cd2d2",
   "metadata": {
    "execution": {
     "iopub.execute_input": "2025-03-22T06:00:33.192824Z",
     "iopub.status.busy": "2025-03-22T06:00:33.192440Z",
     "iopub.status.idle": "2025-03-22T06:00:33.199896Z",
     "shell.execute_reply": "2025-03-22T06:00:33.198388Z",
     "shell.execute_reply.started": "2025-03-22T06:00:33.192794Z"
    }
   },
   "outputs": [],
   "source": [
    "#手搓time-还挺有意思的\n",
    "def pritict_by_loop(x,w,b):\n",
    "    #初始化\n",
    "    p=0\n",
    "    n=x.train.shape\n",
    "    for i in range(n):\n",
    "        p[i]=w[i]*x[i]\n",
    "        p=p+p[i]\n",
    "    p=p+b\n",
    "    "
   ]
  },
  {
   "cell_type": "code",
   "execution_count": 6,
   "id": "1f3f2526-4554-4578-86e8-ec6699bcb85f",
   "metadata": {
    "execution": {
     "iopub.execute_input": "2025-03-22T06:04:12.274419Z",
     "iopub.status.busy": "2025-03-22T06:04:12.273622Z",
     "iopub.status.idle": "2025-03-22T06:04:12.284832Z",
     "shell.execute_reply": "2025-03-22T06:04:12.283145Z",
     "shell.execute_reply.started": "2025-03-22T06:04:12.274326Z"
    }
   },
   "outputs": [],
   "source": [
    "#对答案时间到\n",
    "def predict_single_loop(x,w,b):\n",
    "    n=x.shape[0] #0对一个二维数组来说是样本的数目\n",
    "    p=0\n",
    "    for i in range(n):\n",
    "        p_i=w[i]*x[i] #这里好像有一点问题，就是p他本身不是数组他不能向你那样调用\n",
    "        p=p+p_i\n",
    "    p=p+b\n",
    "    return p\n",
    "    "
   ]
  },
  {
   "cell_type": "code",
   "execution_count": 11,
   "id": "e7e80026-3a65-4e58-acd6-f96d1dba23f1",
   "metadata": {
    "execution": {
     "iopub.execute_input": "2025-03-22T06:08:26.921087Z",
     "iopub.status.busy": "2025-03-22T06:08:26.920593Z",
     "iopub.status.idle": "2025-03-22T06:08:26.929011Z",
     "shell.execute_reply": "2025-03-22T06:08:26.927685Z",
     "shell.execute_reply.started": "2025-03-22T06:08:26.921053Z"
    }
   },
   "outputs": [
    {
     "name": "stdout",
     "output_type": "stream",
     "text": [
      "x_test= [2104    5    1   45]\n",
      "prediction:459.9999976194083\n"
     ]
    }
   ],
   "source": [
    "#继续手搓时间——随便计算一下试验一下\n",
    "x_test=X_train[0] #这里你对numpy的切片操作还是很不熟悉，但是没想到你这样也可以，正好稍微复习一下\n",
    "print(f\"x_test= {x_test}\")\n",
    "f_wb=predict_single_loop(x_test,w_init,b_init)\n",
    "print(f\"prediction:{f_wb}\")\n",
    "\n"
   ]
  },
  {
   "cell_type": "markdown",
   "id": "bb1ac861-11b7-4825-a1b1-4bfc589b8370",
   "metadata": {},
   "source": [
    "问题 1：创建数组\n",
    "使用 np.array 创建一个一维数组，内容为 [1, 2, 3, 4, 5]。\n",
    "使用 np.arange 创建一个从 0 到 9（包含 0 和 9）的数组。\n",
    "使用 np.linspace 创建一个从 0 到 1 的数组，包含 5 个等间距的值。\n",
    "使用 np.zeros 创建一个形状为 (3, 4) 的全零矩阵。\n",
    "使用 np.ones 创建一个形状为 (2, 2) 的全一矩阵。\n",
    "使用 np.eye 创建一个 3x3 的单位矩阵（主对角线为 1，其余为 0）。\n",
    "使用 np.random.rand 创建一个形状为 (2, 3) 的随机数矩阵（值在 [0, 1) 区间内）。\n",
    "\n",
    "\n",
    "问题 2：取值操作\n",
    "假设我们有一个二维数组：\n",
    "\n",
    "\n",
    "\n",
    "arr = np.array([[1, 2, 3], [4, 5, 6], [7, 8, 9]])\n",
    "完成以下操作：\n",
    "\n",
    "取出第一行的所有元素。\n",
    "取出最后一列的所有元素。\n",
    "取出第二行第二列的单个元素。\n",
    "取出子数组 [[5, 6], [8, 9]]。\n",
    "使用布尔索引取出所有大于 5 的元素。\n",
    "\n",
    "\n",
    "问题 3：修改数组\n",
    "将 arr 中所有大于 5 的元素替换为 0。\n",
    "将 arr 的第一行替换为 [10, 11, 12]。\n",
    "在 arr 的末尾添加一行 [13, 14, 15]。\n",
    "\n",
    "\n",
    "\n",
    "问题 4：其他操作\n",
    "计算 arr 的转置（行列互换）。\n",
    "计算 arr 的所有元素的平均值。\n",
    "找到 arr 中的最大值及其索引位置。\n",
    "按列计算 arr 的累加和（即每一列的累加结果）。"
   ]
  },
  {
   "cell_type": "code",
   "execution_count": 32,
   "id": "d1d90dce-6fe3-43af-8bbd-c9b8a49ea958",
   "metadata": {
    "execution": {
     "iopub.execute_input": "2025-03-22T06:20:41.633198Z",
     "iopub.status.busy": "2025-03-22T06:20:41.632393Z",
     "iopub.status.idle": "2025-03-22T06:20:41.646146Z",
     "shell.execute_reply": "2025-03-22T06:20:41.644790Z",
     "shell.execute_reply.started": "2025-03-22T06:20:41.633147Z"
    }
   },
   "outputs": [
    {
     "ename": "SyntaxError",
     "evalue": "invalid syntax (133760818.py, line 23)",
     "output_type": "error",
     "traceback": [
      "\u001b[0;36m  Cell \u001b[0;32mIn[32], line 23\u001b[0;36m\u001b[0m\n\u001b[0;31m    b=arr[,2] #我不太会取最后一列的元素\u001b[0m\n\u001b[0m          ^\u001b[0m\n\u001b[0;31mSyntaxError\u001b[0m\u001b[0;31m:\u001b[0m invalid syntax\n"
     ]
    }
   ],
   "source": [
    "#稍微复习一下numpy中的操作\n",
    "##回答ai提出来的问题\n",
    "###创建数组\n",
    "a=np.array([1,2,3,4,5])\n",
    "print(f\"a={a}\")\n",
    "b=np.arange(10)\n",
    "print(f\"b={b}\")\n",
    "c=np.linspace(0,1,5) #这个也很陌生\n",
    "print(f\"c={c}\")\n",
    "d=np.zeros([3,4])\n",
    "print(f\"d={d}\")\n",
    "e=np.ones([2,2])\n",
    "print(f\"e={e}\")\n",
    "#f=np.eye([3,3],) #不会我没试过这个完全\n",
    "#print(f\"f={f}\")\n",
    "#f=np.random.rand([2,2]) #还是不会\n",
    "#print(f\"f={f}\")\n",
    "\n",
    "### 取值操作\n",
    "arr = np.array([[1, 2, 3], [4, 5, 6], [7, 8, 9]])\n",
    "a=arr[0]\n",
    "print(f\"a={a}\")\n",
    "#b=arr[,2] #我不太会取最后一列的元素\n",
    "#b\n",
    "c=arr[1,1]\n",
    "print(f\"c={c}\")\n",
    "#d=arr[] #不会\n",
    "#e=arr #不会\n",
    "\n",
    "\n",
    "### 修改数组\n",
    "#完全不会\n",
    "###其他操作\n",
    "#也完全不会"
   ]
  },
  {
   "cell_type": "code",
   "execution_count": 34,
   "id": "e7204a53-fa85-45c1-8b7b-c8dcc3782c7f",
   "metadata": {
    "execution": {
     "iopub.execute_input": "2025-03-22T07:02:06.609257Z",
     "iopub.status.busy": "2025-03-22T07:02:06.608739Z",
     "iopub.status.idle": "2025-03-22T07:02:06.616868Z",
     "shell.execute_reply": "2025-03-22T07:02:06.615762Z",
     "shell.execute_reply.started": "2025-03-22T07:02:06.609212Z"
    }
   },
   "outputs": [
    {
     "name": "stdout",
     "output_type": "stream",
     "text": [
      "f=[[1. 0. 0.]\n",
      " [0. 1. 0.]\n",
      " [0. 0. 1.]]\n",
      "g=[[0.79438781 0.1608789  0.39352998]\n",
      " [0.35685607 0.6314657  0.36833959]]\n",
      "b=[3 6 9]\n"
     ]
    }
   ],
   "source": [
    "#来吧你最喜欢干的事情抄答案，妈的做的一身冷汗\n",
    "# 1.创建数组\n",
    "d=np.zeros([3,4]) #考考你这里（3,4）和【3,4】有什么区别？我的理解是前者是元组后者是列表，前者没办法改变后者可以改变，所以为什么我一定要用元祖呢？列表不行吗？\n",
    "#好吧就是规定是一个元组同时形状是不可更改的\n",
    "f = np.eye(3)\n",
    "print(f\"f={f}\")\n",
    "g = np.random.rand(2, 3)\n",
    "print(f\"g={g}\")\n",
    "\n",
    "# 2. 取值\n",
    "arr = np.array([[1, 2, 3], [4, 5, 6], [7, 8, 9]])\n",
    "b = arr[:, -1] #我之前理解错了，实际上：值得是全选，才是分割\n",
    "print(f\"b={b}\")\n",
    "d=arr[1:,1:]#第二行以后的和第二列以后的\n",
    "e=arr[arr>5]\n",
    "g=arr[arr>5]\n",
    "h=arr[0]=[10,11,12]\n",
    "i=np.vstack((arr,[13,14,15]))\n",
    "t_arr=arr.T\n",
    "mean=arr.mean()\n",
    "max=arr.max()\n"
   ]
  },
  {
   "cell_type": "code",
   "execution_count": 68,
   "id": "aaf4c70a-1509-47d6-ac34-4bb17390eba4",
   "metadata": {
    "execution": {
     "iopub.execute_input": "2025-03-22T07:36:05.966307Z",
     "iopub.status.busy": "2025-03-22T07:36:05.965839Z",
     "iopub.status.idle": "2025-03-22T07:36:05.976282Z",
     "shell.execute_reply": "2025-03-22T07:36:05.975438Z",
     "shell.execute_reply.started": "2025-03-22T07:36:05.966274Z"
    }
   },
   "outputs": [
    {
     "name": "stdout",
     "output_type": "stream",
     "text": [
      "x_learn=[[10 20 30]\n",
      " [40 50 60]]\n",
      "reshape[[ 1  2  3  4]\n",
      " [ 5  6  7  8]\n",
      " [ 9 10 11 12]]\n"
     ]
    }
   ],
   "source": [
    "#ok 我又觉得我行了，再来试一下\n",
    "## 创建数组\n",
    "x_learn=np.array([[10,20,30],[40,50,60]])\n",
    "print(f\"x_learn={x_learn}\")\n",
    "a=np.arange(1,13)\n",
    "a=a.reshape(3,4) #原来直接这样就可以了\n",
    "print(f\"reshape{a}\")\n",
    "b=np.ones([2,3])\n",
    "b=b*5\n",
    "## 取值操作\n",
    "arr=np.array([[1,2,3],[4,5,6],[7,8,9]])\n",
    "a=arr[1,]\n",
    "b=arr[:,0]\n",
    "c=arr[1,1:]\n",
    "d=arr[arr<5]\n",
    "#修改数组\n",
    "# 改是改了能不能找一个中间过渡态啊\n",
    "brr=arr\n",
    "arr[arr<5]=0\n",
    "arr[2]=[10,11,12]\n",
    "np.vstack((arr,[13,14,15]))\n",
    "t_arr=arr.T\n",
    "sum=arr.sum()\n",
    "min=arr.min()\n",
    "sum_0=arr.sum(1) #这里好像是1是按照行算的2是按照列算的\n",
    "#哈哈哈我已经是数组高手了！至少基础操作会了"
   ]
  },
  {
   "cell_type": "code",
   "execution_count": 64,
   "id": "0bc3fa20-a893-40b3-8f0a-0944c3a05cd2",
   "metadata": {
    "execution": {
     "iopub.execute_input": "2025-03-22T07:32:10.474954Z",
     "iopub.status.busy": "2025-03-22T07:32:10.473812Z",
     "iopub.status.idle": "2025-03-22T07:32:10.482846Z",
     "shell.execute_reply": "2025-03-22T07:32:10.481448Z",
     "shell.execute_reply.started": "2025-03-22T07:32:10.474901Z"
    }
   },
   "outputs": [
    {
     "data": {
      "text/plain": [
       "44"
      ]
     },
     "execution_count": 64,
     "metadata": {},
     "output_type": "execute_result"
    }
   ],
   "source": [
    "sum"
   ]
  },
  {
   "cell_type": "code",
   "execution_count": 65,
   "id": "f33adcb1-f0d6-4294-b83d-e6b38a24d6d4",
   "metadata": {
    "execution": {
     "iopub.execute_input": "2025-03-22T07:32:15.747025Z",
     "iopub.status.busy": "2025-03-22T07:32:15.745883Z",
     "iopub.status.idle": "2025-03-22T07:32:15.758071Z",
     "shell.execute_reply": "2025-03-22T07:32:15.756788Z",
     "shell.execute_reply.started": "2025-03-22T07:32:15.746930Z"
    }
   },
   "outputs": [
    {
     "data": {
      "text/plain": [
       "array([ 0, 11, 33])"
      ]
     },
     "execution_count": 65,
     "metadata": {},
     "output_type": "execute_result"
    }
   ],
   "source": [
    "sum_0"
   ]
  },
  {
   "cell_type": "code",
   "execution_count": 66,
   "id": "22c360b2-e93c-4b6a-8d59-63b35b18c518",
   "metadata": {
    "execution": {
     "iopub.execute_input": "2025-03-22T07:32:25.579690Z",
     "iopub.status.busy": "2025-03-22T07:32:25.579220Z",
     "iopub.status.idle": "2025-03-22T07:32:25.585977Z",
     "shell.execute_reply": "2025-03-22T07:32:25.585129Z",
     "shell.execute_reply.started": "2025-03-22T07:32:25.579659Z"
    }
   },
   "outputs": [
    {
     "data": {
      "text/plain": [
       "array([[ 0,  0,  0],\n",
       "       [ 0,  5,  6],\n",
       "       [10, 11, 12]])"
      ]
     },
     "execution_count": 66,
     "metadata": {},
     "output_type": "execute_result"
    }
   ],
   "source": [
    "arr"
   ]
  },
  {
   "cell_type": "code",
   "execution_count": 69,
   "id": "6e2ccf94-c1ba-47bb-b8bb-5d06224959fc",
   "metadata": {
    "execution": {
     "iopub.execute_input": "2025-03-22T07:38:35.883959Z",
     "iopub.status.busy": "2025-03-22T07:38:35.883492Z",
     "iopub.status.idle": "2025-03-22T07:38:35.889801Z",
     "shell.execute_reply": "2025-03-22T07:38:35.888695Z",
     "shell.execute_reply.started": "2025-03-22T07:38:35.883917Z"
    }
   },
   "outputs": [],
   "source": [
    "#继续回到我的主线尝试一下dot product\n",
    "def predict(x,w,b):\n",
    "    p=np.dot(x,w)+b #感觉这个确实没办法手搓啊我都没见过np.dot是怎么使用的\n",
    "    return p #哎但是我是天才，笑"
   ]
  },
  {
   "cell_type": "code",
   "execution_count": 71,
   "id": "d7db8e12-c2a4-4ebc-a3ef-c0d051d05ede",
   "metadata": {
    "execution": {
     "iopub.execute_input": "2025-03-22T07:39:59.700629Z",
     "iopub.status.busy": "2025-03-22T07:39:59.700016Z",
     "iopub.status.idle": "2025-03-22T07:39:59.708712Z",
     "shell.execute_reply": "2025-03-22T07:39:59.707534Z",
     "shell.execute_reply.started": "2025-03-22T07:39:59.700574Z"
    }
   },
   "outputs": [
    {
     "name": "stdout",
     "output_type": "stream",
     "text": [
      "f_wb=459.9999976194083\n"
     ]
    }
   ],
   "source": [
    "x_vec=X_train[0,:]\n",
    "f_wb=predict(x_vec,w_init,b_init)\n",
    "print(f\"f_wb={f_wb}\") #天菜"
   ]
  },
  {
   "cell_type": "code",
   "execution_count": 95,
   "id": "0d506dc3-5a65-422b-a9d6-2d5c1cf41bae",
   "metadata": {
    "execution": {
     "iopub.execute_input": "2025-03-22T08:16:47.713381Z",
     "iopub.status.busy": "2025-03-22T08:16:47.712868Z",
     "iopub.status.idle": "2025-03-22T08:16:47.718833Z",
     "shell.execute_reply": "2025-03-22T08:16:47.717969Z",
     "shell.execute_reply.started": "2025-03-22T08:16:47.713348Z"
    }
   },
   "outputs": [],
   "source": [
    "# compute cost with multiple variables\n",
    "def cost_function(X,y,w,b):\n",
    "    m=X_train.shape[0]\n",
    "    cost=0\n",
    "    for i in range(m):\n",
    "        f_wb_i=np.dot(X[i],w)+b\n",
    "        cost=cost+(f_wb_i-y)**2\n",
    "    cost=cost/(2*m)\n",
    "    return cost     #easy啊 我越来越熟练了"
   ]
  },
  {
   "cell_type": "code",
   "execution_count": 74,
   "id": "bd25829d-66d6-4beb-a931-b724e29853d8",
   "metadata": {
    "execution": {
     "iopub.execute_input": "2025-03-22T07:44:30.141089Z",
     "iopub.status.busy": "2025-03-22T07:44:30.140309Z",
     "iopub.status.idle": "2025-03-22T07:44:30.151238Z",
     "shell.execute_reply": "2025-03-22T07:44:30.149527Z",
     "shell.execute_reply.started": "2025-03-22T07:44:30.140981Z"
    }
   },
   "outputs": [
    {
     "name": "stdout",
     "output_type": "stream",
     "text": [
      "cost=[21918.00021892  9149.99983727 13739.99974687]\n"
     ]
    }
   ],
   "source": [
    "cost=compute_cost(X_train,y_train,w_init,b_init)\n",
    "print(f\"cost={cost}\") \n",
    "#哦哦哦好神奇原来是三个cost 虽然和她的lab里面不一样，但我思考了一下我应该是对的，就是对应三个w_init,生成了三个cost 根本还没有最佳呢看个锤子w"
   ]
  },
  {
   "cell_type": "code",
   "execution_count": 96,
   "id": "19d3e486-8db9-4bd4-a510-3c96dbdac6ab",
   "metadata": {
    "execution": {
     "iopub.execute_input": "2025-03-22T08:16:50.600193Z",
     "iopub.status.busy": "2025-03-22T08:16:50.599716Z",
     "iopub.status.idle": "2025-03-22T08:16:50.606885Z",
     "shell.execute_reply": "2025-03-22T08:16:50.606056Z",
     "shell.execute_reply.started": "2025-03-22T08:16:50.600159Z"
    }
   },
   "outputs": [],
   "source": [
    "def gradient_function(X,y,w,b):\n",
    "    m,n=X.shape\n",
    "    dj_dw=np.zeros((n,))\n",
    "    dj_db=0\n",
    "    for i in range(m):\n",
    "        err=(np.dot(X[i],w)+b)-y[i]\n",
    "        for j in range(n):\n",
    "            dj_dw[j]=dj_dw[j]+err*X[i,j] #这是哪个东西求导后的结果\n",
    "        dj_db=dj_db+err\n",
    "    dj_dw=dj_dw/m \n",
    "    dj_db=dj_db/n \n",
    "\n",
    "    return dj_db,dj_dw #抄的哈 这个有点难了"
   ]
  },
  {
   "cell_type": "code",
   "execution_count": 89,
   "id": "e20d512f-f57b-4b34-91d6-0d7d5dfeb354",
   "metadata": {
    "execution": {
     "iopub.execute_input": "2025-03-22T08:00:25.286597Z",
     "iopub.status.busy": "2025-03-22T08:00:25.286191Z",
     "iopub.status.idle": "2025-03-22T08:00:25.292688Z",
     "shell.execute_reply": "2025-03-22T08:00:25.291747Z",
     "shell.execute_reply.started": "2025-03-22T08:00:25.286563Z"
    }
   },
   "outputs": [
    {
     "name": "stdout",
     "output_type": "stream",
     "text": [
      "dj_db at initial w,b: -1.2554438626466435e-06\n",
      "dj_dw at initial w,b: \n",
      " [-2.72623577e-03 -6.27197263e-06 -2.21745578e-06 -6.92403391e-05]\n"
     ]
    }
   ],
   "source": [
    "tmp_dj_db, tmp_dj_dw = compute_gradient(X_train, y_train, w_init, b_init)\n",
    "print(f'dj_db at initial w,b: {tmp_dj_db}')\n",
    "print(f'dj_dw at initial w,b: \\n {tmp_dj_dw}')"
   ]
  },
  {
   "cell_type": "code",
   "execution_count": 99,
   "id": "4101b8e1-c401-45bd-8a02-22e0fcd0e240",
   "metadata": {
    "execution": {
     "iopub.execute_input": "2025-03-22T08:18:59.789409Z",
     "iopub.status.busy": "2025-03-22T08:18:59.788646Z",
     "iopub.status.idle": "2025-03-22T08:18:59.802726Z",
     "shell.execute_reply": "2025-03-22T08:18:59.801148Z",
     "shell.execute_reply.started": "2025-03-22T08:18:59.789340Z"
    }
   },
   "outputs": [],
   "source": [
    "#开始进行最后一步多变量的梯度下降\n",
    "def gradient_descent(X,y,w_in,b_in,cost_function,gradient_function,alpha,num_iters):\n",
    "    J_history=[]\n",
    "    w=copy.deepcopy(w_in) #不直接在上面就叫w的原因是为了防止命名错误\n",
    "    b=b_in\n",
    "\n",
    "    for i in range(num_iters): #唉参数多了真得写注释，这里是迭代次数\n",
    "        dj_db,dj_dw=gradient_function(X,y,w,b)\n",
    "        w=w-alpha*dj_dw\n",
    "        b=b-alpha*dj_db\n",
    "\n",
    "        if i <10000:\n",
    "            J_history.append(cost_function(X,y,w,b))\n",
    "        if i% math.ceil(num_iters/10)==0:\n",
    "            print(f\"Iteration {i}:Cost {J_history[-1]} \")\n",
    "    return w,b,J_history"
   ]
  },
  {
   "cell_type": "code",
   "execution_count": 100,
   "id": "ead3e7d0-a8aa-4956-a80e-5a41e6b8b0f9",
   "metadata": {
    "execution": {
     "iopub.execute_input": "2025-03-22T08:19:02.277018Z",
     "iopub.status.busy": "2025-03-22T08:19:02.276602Z",
     "iopub.status.idle": "2025-03-22T08:19:02.377684Z",
     "shell.execute_reply": "2025-03-22T08:19:02.376776Z",
     "shell.execute_reply.started": "2025-03-22T08:19:02.276971Z"
    }
   },
   "outputs": [
    {
     "name": "stdout",
     "output_type": "stream",
     "text": [
      "Iteration 0:Cost [13473.48080976 14829.77758876 22765.00577326] \n",
      "Iteration 100:Cost [19009.60689546  7337.65021208 12187.23941865] \n",
      "Iteration 200:Cost [19020.04824289  7342.91980587 12191.28412341] \n",
      "Iteration 300:Cost [19030.44793224  7348.1706845  12195.31554688] \n",
      "Iteration 400:Cost [19040.80610703  7353.40288973 12199.33370669] \n",
      "Iteration 500:Cost [19051.12291051  7358.61646349 12203.33862078] \n",
      "Iteration 600:Cost [19061.39848564  7363.81144789 12207.33030738] \n",
      "Iteration 700:Cost [19071.63297511  7368.98788521 12211.30878497] \n",
      "Iteration 800:Cost [19081.82652134  7374.14581788 12215.27407232] \n",
      "Iteration 900:Cost [19091.97926647  7379.28528852 12219.22618848] \n",
      "b,w found by gradient descent: -0.00,[ 0.20396536  0.00374919 -0.01124872 -0.06586182] \n",
      "prediction: 426.19, target value: 460\n",
      "prediction: 286.17, target value: 232\n",
      "prediction: 171.47, target value: 178\n"
     ]
    }
   ],
   "source": [
    "# initialize parameters\n",
    "initial_w = np.zeros_like(w_init)\n",
    "initial_b = 0.\n",
    "# some gradient descent settings\n",
    "iterations = 1000\n",
    "alpha = 5.0e-7\n",
    "# run gradient descent \n",
    "w_final, b_final, J_hist = gradient_descent(X_train, y_train, initial_w, initial_b,\n",
    "                                                    compute_cost, compute_gradient, \n",
    "                                                    alpha, iterations)\n",
    "print(f\"b,w found by gradient descent: {b_final:0.2f},{w_final} \")\n",
    "m,_ = X_train.shape\n",
    "for i in range(m):\n",
    "    print(f\"prediction: {np.dot(X_train[i], w_final) + b_final:0.2f}, target value: {y_train[i]}\")"
   ]
  },
  {
   "cell_type": "code",
   "execution_count": null,
   "id": "8dea0cf1-2b81-4cd5-ae38-390e5058bd63",
   "metadata": {},
   "outputs": [],
   "source": []
  }
 ],
 "metadata": {
  "kernelspec": {
   "display_name": "Python 3 (ipykernel)",
   "language": "python",
   "name": "python3"
  },
  "language_info": {
   "codemirror_mode": {
    "name": "ipython",
    "version": 3
   },
   "file_extension": ".py",
   "mimetype": "text/x-python",
   "name": "python",
   "nbconvert_exporter": "python",
   "pygments_lexer": "ipython3",
   "version": "3.10.13"
  }
 },
 "nbformat": 4,
 "nbformat_minor": 5
}
