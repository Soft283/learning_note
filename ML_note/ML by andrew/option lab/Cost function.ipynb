{
 "cells": [
  {
   "cell_type": "code",
   "execution_count": 3,
   "id": "c93c4267-1393-401d-97c2-7903a8980e22",
   "metadata": {
    "execution": {
     "iopub.execute_input": "2025-03-14T11:22:30.468637Z",
     "iopub.status.busy": "2025-03-14T11:22:30.467781Z",
     "iopub.status.idle": "2025-03-14T11:22:30.477708Z",
     "shell.execute_reply": "2025-03-14T11:22:30.475660Z",
     "shell.execute_reply.started": "2025-03-14T11:22:30.468566Z"
    }
   },
   "outputs": [],
   "source": [
    "import numpy as np\n",
    "#%matplotlib widget #交互型命令\n",
    "import matplotlib.pyplot as plt\n"
   ]
  },
  {
   "cell_type": "code",
   "execution_count": null,
   "id": "dab97f99-b850-452e-aa1a-ecd3d2af4d71",
   "metadata": {},
   "outputs": [],
   "source": [
    "x_train = np.array([1.0, 2.0])          \n",
    "y_train = np.array([300.0, 500.0])         /\n"
   ]
  },
  {
   "cell_type": "code",
   "execution_count": 4,
   "id": "e92f88de-c34d-4caa-9d65-4bda6466d23d",
   "metadata": {
    "execution": {
     "iopub.execute_input": "2025-03-14T11:30:33.533151Z",
     "iopub.status.busy": "2025-03-14T11:30:33.532328Z",
     "iopub.status.idle": "2025-03-14T11:30:33.545162Z",
     "shell.execute_reply": "2025-03-14T11:30:33.543434Z",
     "shell.execute_reply.started": "2025-03-14T11:30:33.533085Z"
    }
   },
   "outputs": [],
   "source": [
    "def compute_cost(x,y,w,b):\n",
    "    \"\"\"\n",
    "    Compute the cost function for linear regression\n",
    "    Args:\n",
    "        x (ndarray(m,)):Data,m examples\n",
    "        y (ndarray(m,)):target values\n",
    "        w,b (scalar): model paramters\n",
    "    Returns:\n",
    "        total_cost (float):The cost of using wb as the paramters for line regression to fit the data point in x and y\n",
    "        \n",
    "    \"\"\"\n",
    "    m=x.shape[0]\n",
    "    cost_sum=0\n",
    "    for i in range(m):\n",
    "        f_wb=w*x[i]+b\n",
    "        cost=(f_wb-y[i])**2\n",
    "        cost_sum=cost_sum+cost\n",
    "    total_cost=(1/(2*m))*cost_sum\n",
    "\n",
    "    return total_cost\n",
    "\n"
   ]
  },
  {
   "cell_type": "code",
   "execution_count": null,
   "id": "b26752f7-83b3-4c0c-ad0a-fbb5d2b32540",
   "metadata": {},
   "outputs": [],
   "source": []
  }
 ],
 "metadata": {
  "kernelspec": {
   "display_name": "Python 3 (ipykernel)",
   "language": "python",
   "name": "python3"
  },
  "language_info": {
   "codemirror_mode": {
    "name": "ipython",
    "version": 3
   },
   "file_extension": ".py",
   "mimetype": "text/x-python",
   "name": "python",
   "nbconvert_exporter": "python",
   "pygments_lexer": "ipython3",
   "version": "3.10.13"
  }
 },
 "nbformat": 4,
 "nbformat_minor": 5
}
